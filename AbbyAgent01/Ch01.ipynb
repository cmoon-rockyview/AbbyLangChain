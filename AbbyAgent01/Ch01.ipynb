{
 "cells": [
  {
   "cell_type": "code",
   "execution_count": 10,
   "metadata": {},
   "outputs": [
    {
     "data": {
      "text/plain": [
       "True"
      ]
     },
     "execution_count": 10,
     "metadata": {},
     "output_type": "execute_result"
    }
   ],
   "source": [
    "from dotenv import load_dotenv\n",
    "import sys\n",
    "\n",
    "sys.path.append('AbbyUtils.py')\n",
    "load_dotenv()"
   ]
  },
  {
   "cell_type": "code",
   "execution_count": 11,
   "metadata": {},
   "outputs": [
    {
     "name": "stdout",
     "output_type": "stream",
     "text": [
      "tool name: search_news\n",
      "tool description: Search Google News by input keyword\n",
      "tool name: python_repl_tool\n",
      "tool description: Use this to execute python code. If you want to see the output of a value,\n",
      "    you should print it out with `print(...)`. This is visible to the user.\n"
     ]
    }
   ],
   "source": [
    "from langchain.tools import tool\n",
    "from typing import List, Dict, Annotated\n",
    "from langchain_experimental.utilities import PythonREPL\n",
    "from AbbyUtils import fetch_google_news\n",
    "\n",
    "@tool\n",
    "def search_news(query: str) -> List[Dict[str, str]]:\n",
    "    \"\"\"Search Google News by input keyword\"\"\"\n",
    "    news_tool = fetch_google_news(query, 5)\n",
    "    return news_tool\n",
    "\n",
    "@tool\n",
    "def python_repl_tool(\n",
    "    code: Annotated[str, \"The python code to execute to generate your chart.\"],\n",
    "):\n",
    "    \"\"\"Use this to execute python code. If you want to see the output of a value,\n",
    "    you should print it out with `print(...)`. This is visible to the user.\"\"\"\n",
    "    result = \"\"\n",
    "    try:\n",
    "        result = PythonREPL().run(code)\n",
    "    except BaseException as e:\n",
    "        print(f\"Failed to execute. Error: {repr(e)}\")\n",
    "    finally:\n",
    "        return result\n",
    "\n",
    "print(f\"tool name: {search_news.name}\")\n",
    "print(f\"tool description: {search_news.description}\")\n",
    "print(f\"tool name: {python_repl_tool.name}\")\n",
    "print(f\"tool description: {python_repl_tool.description}\")"
   ]
  },
  {
   "cell_type": "code",
   "execution_count": 12,
   "metadata": {},
   "outputs": [],
   "source": [
    "#Define Tools\n",
    "tools = [search_news, python_repl_tool]"
   ]
  },
  {
   "cell_type": "markdown",
   "metadata": {},
   "source": [
    "# Agent prompt creation\n",
    "1. chat_history\n",
    "2. agent_scratchpad\n",
    "3. input"
   ]
  },
  {
   "cell_type": "code",
   "execution_count": 13,
   "metadata": {},
   "outputs": [],
   "source": [
    "from langchain_core.prompts import ChatPromptTemplate\n",
    "\n",
    "prompt = ChatPromptTemplate.from_messages(\n",
    "    [\n",
    "        (\"system\",\n",
    "            \"You are a helpful assistant. \"\n",
    "            \"Make sure to use the `search_news` tool for searching keyword related news.\",\n",
    "        ),\n",
    "        (\"placeholder\",\"{chat_history}\"),\n",
    "        (\"human\", \"{input}\"),\n",
    "        (\"placeholder\", \"{agent_scratchpad}\"),         \n",
    "        \n",
    "    ]\n",
    ")\n"
   ]
  },
  {
   "cell_type": "markdown",
   "metadata": {},
   "source": [
    "# Agent Generation"
   ]
  },
  {
   "cell_type": "code",
   "execution_count": 14,
   "metadata": {},
   "outputs": [],
   "source": [
    "from langchain_openai import ChatOpenAI\n",
    "from langchain.agents import create_tool_calling_agent\n",
    "\n",
    "llm = ChatOpenAI(model=\"gpt-4o-mini\", temperature=0)\n",
    "\n",
    "agent = create_tool_calling_agent(llm, tools, prompt)\n",
    "\n"
   ]
  },
  {
   "cell_type": "markdown",
   "metadata": {},
   "source": [
    "# AgentExecutor\n",
    "\n",
    "Main Attributes\n",
    "\n",
    "1. agent: plan and execute tools\n",
    "2. tools: list of tools\n",
    "3. return_intermediate_steps: \n",
    "4. max_iterations: Max Loop\n",
    "5. max_execution_time\n",
    "6. early_stopping_method\n",
    "\n",
    "Main Methods\n",
    "\n",
    "1. invoke: execute agent \n",
    "2. stream: "
   ]
  },
  {
   "cell_type": "code",
   "execution_count": 15,
   "metadata": {},
   "outputs": [],
   "source": [
    "from langchain.agents import AgentExecutor\n",
    "\n",
    "agent_executor = AgentExecutor(\n",
    "    agent = agent,\n",
    "    tools = tools,\n",
    "    verbose = True,\n",
    "    max_iterations= 10,\n",
    "    max_execution_time= 10,\n",
    "    handle_parsing_errors= True,\n",
    ")"
   ]
  },
  {
   "cell_type": "markdown",
   "metadata": {},
   "source": [
    "# Check Step-by-Step Results with Stream Output\n",
    "\n",
    "We will use the `stream()` method of AgentExecutor to stream the intermediate steps of the agent.\n",
    "\n",
    "The output of `stream()` will alternate between (Action, Observation) pairs, and finally, if the agent has achieved its goal, it will end with an answer.\n",
    "\n",
    "It will look like this:\n",
    "\n",
    "1. Action output\n",
    "2. Observation output\n",
    "3. Action output\n",
    "4. Observation output\n",
    "\n",
    "... (continue until the goal is achieved) ...\n",
    "\n",
    "Then, once the final goal is achieved, the agent will output the final answer.\n",
    "\n",
    "The contents of these outputs are summarized as follows:\n",
    "\n",
    "| Output | Content |\n",
    "|--------|----------|\n",
    "\n",
    "# Check Step-by-Step Results with Stream Output\n",
    "\n",
    "We will use the `stream()` method of AgentExecutor to stream the intermediate steps of the agent.\n",
    "\n",
    "The output of `stream()` will alternate between (Action, Observation) pairs, and finally, if the agent has achieved its goal, it will end with an answer.\n",
    "\n",
    "It will look like this:\n",
    "\n",
    "1. Action output\n",
    "2. Observation output\n",
    "3. Action output\n",
    "4. Observation output\n",
    "\n",
    "... (continue until the goal is achieved) ...\n",
    "\n",
    "Then, once the final goal is achieved, the agent will output the final answer.\n",
    "\n",
    "The contents of these outputs are summarized as follows:\n",
    "\n",
    "| Output | Content |\n",
    "|--------|----------|\n",
    "| Action | `actions`: AgentAction or its subclasses<br>`messages`: Chat messages corresponding to the action call |\n",
    "| Observation | `steps`: A record of the agent's actions and observations so far<br>`messages`: Chat messages including the result of the function call (i.e., observation) |\n",
    "| Final Answer | `output`: AgentFinish<br>`messages`: Chat messages including the final output |\n",
    "| Action | `actions`: AgentAction 또는 그 하위 클래스<br>`messages`: 액션 호출에 해당하는 채팅 메시지 |\n",
    "| Observation | `steps`: 현재 액션과 그 관찰을 포함한 에이전트가 지금까지 수행한 작업의 기록<br>`messages`: 함수 호출 결과(즉, 관찰)를 포함한 채팅 메시지 |\n",
    "| Final Answer | `output`: AgentFinish<br>`messages`: 최종 출력을 포함한 채팅 메시지 |\n",
    "```\n"
   ]
  },
  {
   "cell_type": "code",
   "execution_count": 20,
   "metadata": {},
   "outputs": [],
   "source": [
    "from langchain.agents import AgentExecutor\n",
    "\n",
    "agent_executor = AgentExecutor(\n",
    "\n",
    "    agent = agent,\n",
    "    tools = tools,\n",
    "    verbose = False,\n",
    "    handle_parsing_errors= True,\n",
    ")\n"
   ]
  },
  {
   "cell_type": "code",
   "execution_count": 21,
   "metadata": {},
   "outputs": [
    {
     "name": "stdout",
     "output_type": "stream",
     "text": [
      "{'actions': [ToolAgentAction(tool='search_news', tool_input={'query': 'city of abbotsford'}, log=\"\\nInvoking: `search_news` with `{'query': 'city of abbotsford'}`\\n\\n\\n\", message_log=[AIMessageChunk(content='', additional_kwargs={'tool_calls': [{'index': 0, 'id': 'call_yeMLHUl60T25UUKosWovsTu4', 'function': {'arguments': '{\"query\":\"city of abbotsford\"}', 'name': 'search_news'}, 'type': 'function'}]}, response_metadata={'finish_reason': 'tool_calls', 'model_name': 'gpt-4o-mini-2024-07-18', 'system_fingerprint': 'fp_06737a9306'}, id='run-90b0c171-dba7-4362-8ffc-9b08d2f55ad5', tool_calls=[{'name': 'search_news', 'args': {'query': 'city of abbotsford'}, 'id': 'call_yeMLHUl60T25UUKosWovsTu4', 'type': 'tool_call'}], tool_call_chunks=[{'name': 'search_news', 'args': '{\"query\":\"city of abbotsford\"}', 'id': 'call_yeMLHUl60T25UUKosWovsTu4', 'index': 0, 'type': 'tool_call_chunk'}])], tool_call_id='call_yeMLHUl60T25UUKosWovsTu4')], 'messages': [AIMessageChunk(content='', additional_kwargs={'tool_calls': [{'index': 0, 'id': 'call_yeMLHUl60T25UUKosWovsTu4', 'function': {'arguments': '{\"query\":\"city of abbotsford\"}', 'name': 'search_news'}, 'type': 'function'}]}, response_metadata={'finish_reason': 'tool_calls', 'model_name': 'gpt-4o-mini-2024-07-18', 'system_fingerprint': 'fp_06737a9306'}, id='run-90b0c171-dba7-4362-8ffc-9b08d2f55ad5', tool_calls=[{'name': 'search_news', 'args': {'query': 'city of abbotsford'}, 'id': 'call_yeMLHUl60T25UUKosWovsTu4', 'type': 'tool_call'}], tool_call_chunks=[{'name': 'search_news', 'args': '{\"query\":\"city of abbotsford\"}', 'id': 'call_yeMLHUl60T25UUKosWovsTu4', 'index': 0, 'type': 'tool_call_chunk'}])]}\n",
      "============================================================\n",
      "\n",
      "Latest Google News in CA for 'city of abbotsford':\n",
      "\n",
      "1. Applications open for Neighbourhood Small Grants in Abbotsford - Abbotsford News\n",
      "   https://news.google.com/rss/articles/CBMipwFBVV95cUxQTktIbFBDemE0SEtqMWJteVE5cUp2SkgzNHl2NWZNQmJnbmM2Q29DM0xONkZWSENmSXBFeVVSSU4zQWgwRTdnU283M2V5MkRnUGdST3RHbmEwcHZHWEttYkE3NlVLcmUtZGtIV0Q5NWd5MUZlRzhDOXVRbjNFU3UxMDdFeFIyLVYwb3FBaVBkVy1KWFZnd08yRk0yZU5LZTY5dWgyQUFuUQ?oc=5\n",
      "\n",
      "2. Abbotsford and Mission brace for impact of potential U.S. tariffs - CBC.ca\n",
      "   https://news.google.com/rss/articles/CBMipwFBVV95cUxNcEhLdUxiR0VrQ0J6cF9JUTZnVkI2VU53M1J4ekVDT1VJT2djZ2llcEV2UXhzbnpSUC1WYWRlSjA4M1hFYjRyUFFzT1FJSlE0ODJZa2xvSVVOUDMzWjB2UEJzYWppY1FQNWU0UlVJQjZmVjNGd1BQNFkyQ3BpazBYSEdxRW9URlgwT05vbHhoYllXbWNmNVBYT1VHNDdpLTdqcks3SFpUSdIBR0FVX3lxTE5XSkxVWjAzbk1DeHdsWlNKWUxENjJjTXczVXFpTXVKaUxJVUJkM05NaDJmOW9PZGZWNXlJTlRqU0pyTWVTdXBZ?oc=5\n",
      "\n",
      "3. Tuesday - Feb. 25, 2025 - A major downtown Abbotsford apartment proposal - Fraser Valley Current\n",
      "   https://news.google.com/rss/articles/CBMiUkFVX3lxTFAtd0VOTXdLR1BZZkhDQ3VLWXlaNlVGU3JZcjQzUFAzZnZEZ2pfa2trc1JpWFVkT2Mwc19sWmZicWc1UW91ZFU0R194dnMteGVlN0E?oc=5\n",
      "\n",
      "4. Abbotsford seeks to remove city hall homeless encampment - Global News Toronto\n",
      "   https://news.google.com/rss/articles/CBMimAFBVV95cUxQRkY0MUU2S1VMYV9qMTk2cm5lSHNGNGJBWThsQTJpaTU5b2F2QUFKUmhINEtvYm0wV1Q2cE5mVU15UTBrUXlIV1FwcUhYSlo4d1daVWJKSW5SeG9jVmtSd3pjZEVQX2RibFQwZ3F4TnBWQ1lRbzNRVF93RE9zeDR0UVIyeDNCWmtrbUhrenFWUjdJSkZEOWw0atIBnwFBVV95cUxQekx0RFdGSW0zd0UyZUJvZG9SMmk5VG40UmFvT1VZMUIwNkFiTDBSNzBEam1GdE15UGVhV2NfaHE5QnZMVzJIVm44WDRZY011d3BqOFh4V2h4VGhQN2NBbm1BWm9nQnlNZTJ0TmkwWWotZWFpNVNoMjZ2N0lxNVFlQUw3cEJvOWxEQ3FaRVZLYU4zcC1wT0tZa1RBOER2V28?oc=5\n",
      "\n",
      "5. Protest encampment in shadow of Abbotsford City Hall to be dismantled - Vancouver Sun\n",
      "   https://news.google.com/rss/articles/CBMijwFBVV95cUxPNERZQ3ptaG5DYUd1S1pudXhZa1B6VzZpWEExRGRMM09EcXBjQXRXR01MbVlCVHNVYmlVRWxGTDlsY29WcUJWbV90VEJfbHpCeVZiSHRlVUdOb3hxTkhfeWZpX0kwNjNkbDRkUlg3dXhxcUg0T0I4MEdTZDRIUmU2WHpwZElyV1NBc084QndUVQ?oc=5\n",
      "\n",
      "{'steps': [AgentStep(action=ToolAgentAction(tool='search_news', tool_input={'query': 'city of abbotsford'}, log=\"\\nInvoking: `search_news` with `{'query': 'city of abbotsford'}`\\n\\n\\n\", message_log=[AIMessageChunk(content='', additional_kwargs={'tool_calls': [{'index': 0, 'id': 'call_yeMLHUl60T25UUKosWovsTu4', 'function': {'arguments': '{\"query\":\"city of abbotsford\"}', 'name': 'search_news'}, 'type': 'function'}]}, response_metadata={'finish_reason': 'tool_calls', 'model_name': 'gpt-4o-mini-2024-07-18', 'system_fingerprint': 'fp_06737a9306'}, id='run-90b0c171-dba7-4362-8ffc-9b08d2f55ad5', tool_calls=[{'name': 'search_news', 'args': {'query': 'city of abbotsford'}, 'id': 'call_yeMLHUl60T25UUKosWovsTu4', 'type': 'tool_call'}], tool_call_chunks=[{'name': 'search_news', 'args': '{\"query\":\"city of abbotsford\"}', 'id': 'call_yeMLHUl60T25UUKosWovsTu4', 'index': 0, 'type': 'tool_call_chunk'}])], tool_call_id='call_yeMLHUl60T25UUKosWovsTu4'), observation=[{'title': 'Applications open for Neighbourhood Small Grants in Abbotsford - Abbotsford News', 'link': 'https://news.google.com/rss/articles/CBMipwFBVV95cUxQTktIbFBDemE0SEtqMWJteVE5cUp2SkgzNHl2NWZNQmJnbmM2Q29DM0xONkZWSENmSXBFeVVSSU4zQWgwRTdnU283M2V5MkRnUGdST3RHbmEwcHZHWEttYkE3NlVLcmUtZGtIV0Q5NWd5MUZlRzhDOXVRbjNFU3UxMDdFeFIyLVYwb3FBaVBkVy1KWFZnd08yRk0yZU5LZTY5dWgyQUFuUQ?oc=5', 'summary': '<a href=\"https://news.google.com/rss/articles/CBMipwFBVV95cUxQTktIbFBDemE0SEtqMWJteVE5cUp2SkgzNHl2NWZNQmJnbmM2Q29DM0xONkZWSENmSXBFeVVSSU4zQWgwRTdnU283M2V5MkRnUGdST3RHbmEwcHZHWEttYkE3NlVLcmUtZGtIV0Q5NWd5MUZlRzhDOXVRbjNFU3UxMDdFeFIyLVYwb3FBaVBkVy1KWFZnd08yRk0yZU5LZTY5dWgyQUFuUQ?oc=5\" target=\"_blank\">Applications open for Neighbourhood Small Grants in Abbotsford</a>&nbsp;&nbsp;<font color=\"#6f6f6f\">Abbotsford News</font>'}, {'title': 'Abbotsford and Mission brace for impact of potential U.S. tariffs - CBC.ca', 'link': 'https://news.google.com/rss/articles/CBMipwFBVV95cUxNcEhLdUxiR0VrQ0J6cF9JUTZnVkI2VU53M1J4ekVDT1VJT2djZ2llcEV2UXhzbnpSUC1WYWRlSjA4M1hFYjRyUFFzT1FJSlE0ODJZa2xvSVVOUDMzWjB2UEJzYWppY1FQNWU0UlVJQjZmVjNGd1BQNFkyQ3BpazBYSEdxRW9URlgwT05vbHhoYllXbWNmNVBYT1VHNDdpLTdqcks3SFpUSdIBR0FVX3lxTE5XSkxVWjAzbk1DeHdsWlNKWUxENjJjTXczVXFpTXVKaUxJVUJkM05NaDJmOW9PZGZWNXlJTlRqU0pyTWVTdXBZ?oc=5', 'summary': '<a href=\"https://news.google.com/rss/articles/CBMipwFBVV95cUxNcEhLdUxiR0VrQ0J6cF9JUTZnVkI2VU53M1J4ekVDT1VJT2djZ2llcEV2UXhzbnpSUC1WYWRlSjA4M1hFYjRyUFFzT1FJSlE0ODJZa2xvSVVOUDMzWjB2UEJzYWppY1FQNWU0UlVJQjZmVjNGd1BQNFkyQ3BpazBYSEdxRW9URlgwT05vbHhoYllXbWNmNVBYT1VHNDdpLTdqcks3SFpUSdIBR0FVX3lxTE5XSkxVWjAzbk1DeHdsWlNKWUxENjJjTXczVXFpTXVKaUxJVUJkM05NaDJmOW9PZGZWNXlJTlRqU0pyTWVTdXBZ?oc=5\" target=\"_blank\">Abbotsford and Mission brace for impact of potential U.S. tariffs</a>&nbsp;&nbsp;<font color=\"#6f6f6f\">CBC.ca</font>'}, {'title': 'Tuesday - Feb. 25, 2025 - A major downtown Abbotsford apartment proposal - Fraser Valley Current', 'link': 'https://news.google.com/rss/articles/CBMiUkFVX3lxTFAtd0VOTXdLR1BZZkhDQ3VLWXlaNlVGU3JZcjQzUFAzZnZEZ2pfa2trc1JpWFVkT2Mwc19sWmZicWc1UW91ZFU0R194dnMteGVlN0E?oc=5', 'summary': '<a href=\"https://news.google.com/rss/articles/CBMiUkFVX3lxTFAtd0VOTXdLR1BZZkhDQ3VLWXlaNlVGU3JZcjQzUFAzZnZEZ2pfa2trc1JpWFVkT2Mwc19sWmZicWc1UW91ZFU0R194dnMteGVlN0E?oc=5\" target=\"_blank\">Tuesday - Feb. 25, 2025 - A major downtown Abbotsford apartment proposal</a>&nbsp;&nbsp;<font color=\"#6f6f6f\">Fraser Valley Current</font>'}, {'title': 'Abbotsford seeks to remove city hall homeless encampment - Global News Toronto', 'link': 'https://news.google.com/rss/articles/CBMimAFBVV95cUxQRkY0MUU2S1VMYV9qMTk2cm5lSHNGNGJBWThsQTJpaTU5b2F2QUFKUmhINEtvYm0wV1Q2cE5mVU15UTBrUXlIV1FwcUhYSlo4d1daVWJKSW5SeG9jVmtSd3pjZEVQX2RibFQwZ3F4TnBWQ1lRbzNRVF93RE9zeDR0UVIyeDNCWmtrbUhrenFWUjdJSkZEOWw0atIBnwFBVV95cUxQekx0RFdGSW0zd0UyZUJvZG9SMmk5VG40UmFvT1VZMUIwNkFiTDBSNzBEam1GdE15UGVhV2NfaHE5QnZMVzJIVm44WDRZY011d3BqOFh4V2h4VGhQN2NBbm1BWm9nQnlNZTJ0TmkwWWotZWFpNVNoMjZ2N0lxNVFlQUw3cEJvOWxEQ3FaRVZLYU4zcC1wT0tZa1RBOER2V28?oc=5', 'summary': '<a href=\"https://news.google.com/rss/articles/CBMimAFBVV95cUxQRkY0MUU2S1VMYV9qMTk2cm5lSHNGNGJBWThsQTJpaTU5b2F2QUFKUmhINEtvYm0wV1Q2cE5mVU15UTBrUXlIV1FwcUhYSlo4d1daVWJKSW5SeG9jVmtSd3pjZEVQX2RibFQwZ3F4TnBWQ1lRbzNRVF93RE9zeDR0UVIyeDNCWmtrbUhrenFWUjdJSkZEOWw0atIBnwFBVV95cUxQekx0RFdGSW0zd0UyZUJvZG9SMmk5VG40UmFvT1VZMUIwNkFiTDBSNzBEam1GdE15UGVhV2NfaHE5QnZMVzJIVm44WDRZY011d3BqOFh4V2h4VGhQN2NBbm1BWm9nQnlNZTJ0TmkwWWotZWFpNVNoMjZ2N0lxNVFlQUw3cEJvOWxEQ3FaRVZLYU4zcC1wT0tZa1RBOER2V28?oc=5\" target=\"_blank\">Abbotsford seeks to remove city hall homeless encampment</a>&nbsp;&nbsp;<font color=\"#6f6f6f\">Global News Toronto</font>'}, {'title': 'Protest encampment in shadow of Abbotsford City Hall to be dismantled - Vancouver Sun', 'link': 'https://news.google.com/rss/articles/CBMijwFBVV95cUxPNERZQ3ptaG5DYUd1S1pudXhZa1B6VzZpWEExRGRMM09EcXBjQXRXR01MbVlCVHNVYmlVRWxGTDlsY29WcUJWbV90VEJfbHpCeVZiSHRlVUdOb3hxTkhfeWZpX0kwNjNkbDRkUlg3dXhxcUg0T0I4MEdTZDRIUmU2WHpwZElyV1NBc084QndUVQ?oc=5', 'summary': '<a href=\"https://news.google.com/rss/articles/CBMijwFBVV95cUxPNERZQ3ptaG5DYUd1S1pudXhZa1B6VzZpWEExRGRMM09EcXBjQXRXR01MbVlCVHNVYmlVRWxGTDlsY29WcUJWbV90VEJfbHpCeVZiSHRlVUdOb3hxTkhfeWZpX0kwNjNkbDRkUlg3dXhxcUg0T0I4MEdTZDRIUmU2WHpwZElyV1NBc084QndUVQ?oc=5\" target=\"_blank\">Protest encampment in shadow of Abbotsford City Hall to be dismantled</a>&nbsp;&nbsp;<font color=\"#6f6f6f\">Vancouver Sun</font>'}])], 'messages': [FunctionMessage(content='[{\"title\": \"Applications open for Neighbourhood Small Grants in Abbotsford - Abbotsford News\", \"link\": \"https://news.google.com/rss/articles/CBMipwFBVV95cUxQTktIbFBDemE0SEtqMWJteVE5cUp2SkgzNHl2NWZNQmJnbmM2Q29DM0xONkZWSENmSXBFeVVSSU4zQWgwRTdnU283M2V5MkRnUGdST3RHbmEwcHZHWEttYkE3NlVLcmUtZGtIV0Q5NWd5MUZlRzhDOXVRbjNFU3UxMDdFeFIyLVYwb3FBaVBkVy1KWFZnd08yRk0yZU5LZTY5dWgyQUFuUQ?oc=5\", \"summary\": \"<a href=\\\\\"https://news.google.com/rss/articles/CBMipwFBVV95cUxQTktIbFBDemE0SEtqMWJteVE5cUp2SkgzNHl2NWZNQmJnbmM2Q29DM0xONkZWSENmSXBFeVVSSU4zQWgwRTdnU283M2V5MkRnUGdST3RHbmEwcHZHWEttYkE3NlVLcmUtZGtIV0Q5NWd5MUZlRzhDOXVRbjNFU3UxMDdFeFIyLVYwb3FBaVBkVy1KWFZnd08yRk0yZU5LZTY5dWgyQUFuUQ?oc=5\\\\\" target=\\\\\"_blank\\\\\">Applications open for Neighbourhood Small Grants in Abbotsford</a>&nbsp;&nbsp;<font color=\\\\\"#6f6f6f\\\\\">Abbotsford News</font>\"}, {\"title\": \"Abbotsford and Mission brace for impact of potential U.S. tariffs - CBC.ca\", \"link\": \"https://news.google.com/rss/articles/CBMipwFBVV95cUxNcEhLdUxiR0VrQ0J6cF9JUTZnVkI2VU53M1J4ekVDT1VJT2djZ2llcEV2UXhzbnpSUC1WYWRlSjA4M1hFYjRyUFFzT1FJSlE0ODJZa2xvSVVOUDMzWjB2UEJzYWppY1FQNWU0UlVJQjZmVjNGd1BQNFkyQ3BpazBYSEdxRW9URlgwT05vbHhoYllXbWNmNVBYT1VHNDdpLTdqcks3SFpUSdIBR0FVX3lxTE5XSkxVWjAzbk1DeHdsWlNKWUxENjJjTXczVXFpTXVKaUxJVUJkM05NaDJmOW9PZGZWNXlJTlRqU0pyTWVTdXBZ?oc=5\", \"summary\": \"<a href=\\\\\"https://news.google.com/rss/articles/CBMipwFBVV95cUxNcEhLdUxiR0VrQ0J6cF9JUTZnVkI2VU53M1J4ekVDT1VJT2djZ2llcEV2UXhzbnpSUC1WYWRlSjA4M1hFYjRyUFFzT1FJSlE0ODJZa2xvSVVOUDMzWjB2UEJzYWppY1FQNWU0UlVJQjZmVjNGd1BQNFkyQ3BpazBYSEdxRW9URlgwT05vbHhoYllXbWNmNVBYT1VHNDdpLTdqcks3SFpUSdIBR0FVX3lxTE5XSkxVWjAzbk1DeHdsWlNKWUxENjJjTXczVXFpTXVKaUxJVUJkM05NaDJmOW9PZGZWNXlJTlRqU0pyTWVTdXBZ?oc=5\\\\\" target=\\\\\"_blank\\\\\">Abbotsford and Mission brace for impact of potential U.S. tariffs</a>&nbsp;&nbsp;<font color=\\\\\"#6f6f6f\\\\\">CBC.ca</font>\"}, {\"title\": \"Tuesday - Feb. 25, 2025 - A major downtown Abbotsford apartment proposal - Fraser Valley Current\", \"link\": \"https://news.google.com/rss/articles/CBMiUkFVX3lxTFAtd0VOTXdLR1BZZkhDQ3VLWXlaNlVGU3JZcjQzUFAzZnZEZ2pfa2trc1JpWFVkT2Mwc19sWmZicWc1UW91ZFU0R194dnMteGVlN0E?oc=5\", \"summary\": \"<a href=\\\\\"https://news.google.com/rss/articles/CBMiUkFVX3lxTFAtd0VOTXdLR1BZZkhDQ3VLWXlaNlVGU3JZcjQzUFAzZnZEZ2pfa2trc1JpWFVkT2Mwc19sWmZicWc1UW91ZFU0R194dnMteGVlN0E?oc=5\\\\\" target=\\\\\"_blank\\\\\">Tuesday - Feb. 25, 2025 - A major downtown Abbotsford apartment proposal</a>&nbsp;&nbsp;<font color=\\\\\"#6f6f6f\\\\\">Fraser Valley Current</font>\"}, {\"title\": \"Abbotsford seeks to remove city hall homeless encampment - Global News Toronto\", \"link\": \"https://news.google.com/rss/articles/CBMimAFBVV95cUxQRkY0MUU2S1VMYV9qMTk2cm5lSHNGNGJBWThsQTJpaTU5b2F2QUFKUmhINEtvYm0wV1Q2cE5mVU15UTBrUXlIV1FwcUhYSlo4d1daVWJKSW5SeG9jVmtSd3pjZEVQX2RibFQwZ3F4TnBWQ1lRbzNRVF93RE9zeDR0UVIyeDNCWmtrbUhrenFWUjdJSkZEOWw0atIBnwFBVV95cUxQekx0RFdGSW0zd0UyZUJvZG9SMmk5VG40UmFvT1VZMUIwNkFiTDBSNzBEam1GdE15UGVhV2NfaHE5QnZMVzJIVm44WDRZY011d3BqOFh4V2h4VGhQN2NBbm1BWm9nQnlNZTJ0TmkwWWotZWFpNVNoMjZ2N0lxNVFlQUw3cEJvOWxEQ3FaRVZLYU4zcC1wT0tZa1RBOER2V28?oc=5\", \"summary\": \"<a href=\\\\\"https://news.google.com/rss/articles/CBMimAFBVV95cUxQRkY0MUU2S1VMYV9qMTk2cm5lSHNGNGJBWThsQTJpaTU5b2F2QUFKUmhINEtvYm0wV1Q2cE5mVU15UTBrUXlIV1FwcUhYSlo4d1daVWJKSW5SeG9jVmtSd3pjZEVQX2RibFQwZ3F4TnBWQ1lRbzNRVF93RE9zeDR0UVIyeDNCWmtrbUhrenFWUjdJSkZEOWw0atIBnwFBVV95cUxQekx0RFdGSW0zd0UyZUJvZG9SMmk5VG40UmFvT1VZMUIwNkFiTDBSNzBEam1GdE15UGVhV2NfaHE5QnZMVzJIVm44WDRZY011d3BqOFh4V2h4VGhQN2NBbm1BWm9nQnlNZTJ0TmkwWWotZWFpNVNoMjZ2N0lxNVFlQUw3cEJvOWxEQ3FaRVZLYU4zcC1wT0tZa1RBOER2V28?oc=5\\\\\" target=\\\\\"_blank\\\\\">Abbotsford seeks to remove city hall homeless encampment</a>&nbsp;&nbsp;<font color=\\\\\"#6f6f6f\\\\\">Global News Toronto</font>\"}, {\"title\": \"Protest encampment in shadow of Abbotsford City Hall to be dismantled - Vancouver Sun\", \"link\": \"https://news.google.com/rss/articles/CBMijwFBVV95cUxPNERZQ3ptaG5DYUd1S1pudXhZa1B6VzZpWEExRGRMM09EcXBjQXRXR01MbVlCVHNVYmlVRWxGTDlsY29WcUJWbV90VEJfbHpCeVZiSHRlVUdOb3hxTkhfeWZpX0kwNjNkbDRkUlg3dXhxcUg0T0I4MEdTZDRIUmU2WHpwZElyV1NBc084QndUVQ?oc=5\", \"summary\": \"<a href=\\\\\"https://news.google.com/rss/articles/CBMijwFBVV95cUxPNERZQ3ptaG5DYUd1S1pudXhZa1B6VzZpWEExRGRMM09EcXBjQXRXR01MbVlCVHNVYmlVRWxGTDlsY29WcUJWbV90VEJfbHpCeVZiSHRlVUdOb3hxTkhfeWZpX0kwNjNkbDRkUlg3dXhxcUg0T0I4MEdTZDRIUmU2WHpwZElyV1NBc084QndUVQ?oc=5\\\\\" target=\\\\\"_blank\\\\\">Protest encampment in shadow of Abbotsford City Hall to be dismantled</a>&nbsp;&nbsp;<font color=\\\\\"#6f6f6f\\\\\">Vancouver Sun</font>\"}]', name='search_news')]}\n",
      "============================================================\n",
      "{'output': 'Here are some recent news articles related to the city of Abbotsford:\\n\\n1. **[Applications open for Neighbourhood Small Grants in Abbotsford](https://news.google.com/rss/articles/CBMipwFBVV95cUxQTktIbFBDemE0SEtqMWJteVE5cUp2SkgzNHl2NWZNQmJnbmM2Q29DM0xONkZWSENmSXBFeVVSSU4zQWgwRTdnU283M2V5MkRnUGdST3RHbmEwcHZHWEttYkE3NlVLcmUtZGtIV0Q5NWd5MUZlRzhDOXVRbjNFU3UxMDdFeFIyLVYwb3FBaVBkVy1KWFZnd08yRk0yZU5LZTY5dWgyQUFuUQ?oc=5)** - Abbotsford News  \\n   Applications are now open for the Neighbourhood Small Grants program in Abbotsford.\\n\\n2. **[Abbotsford and Mission brace for impact of potential U.S. tariffs](https://news.google.com/rss/articles/CBMipwFBVV95cUxNcEhLdUxiR0VrQ0J6cF9JUTZnVkI2VU53M1J4ekVDT1VJT2djZ2llcEV2UXhzbnpSUC1WYWRlSjA4M1hFYjRyUFFzT1FJSlE0ODJZa2xvSVVOUDMzWjB2UEJzYWppY1FQNWU0UlVJQjZmVjNGd1BQNFkyQ3BpazBYSEdxRW9URlgwT05vbHhoYllXbWNmNVBYT1VHNDdpLTdqcks3SFpUSdIBR0FVX3lxTE5XSkxVWjAzbk1DeHdsWlNKWUxENjJjTXczVXFpTXVKaUxJVUJkM05NaDJmOW9PZGZWNXlJTlRqU0pyTWVTdXBZ?oc=5)** - CBC.ca  \\n   Abbotsford and Mission are preparing for the potential impact of new tariffs from the U.S.\\n\\n3. **[Tuesday - Feb. 25, 2025 - A major downtown Abbotsford apartment proposal](https://news.google.com/rss/articles/CBMiUkFVX3lxTFAtd0VOTXdLR1BZZkhDQ3VLWXlaNlVGU3JZcjQzUFAzZnZEZ2pfa2trc1JpWFVkT2Mwc19sWmZicWc1UW91ZFU0R194dnMteGVlN0E?oc=5)** - Fraser Valley Current  \\n   A significant apartment proposal is set for downtown Abbotsford.\\n\\n4. **[Abbotsford seeks to remove city hall homeless encampment](https://news.google.com/rss/articles/CBMimAFBVV95cUxQRkY0MUU2S1VMYV9qMTk2cm5lSHNGNGJBWThsQTJpaTU5b2F2QUFKUmhINEtvYm0wV1Q2cE5mVU15UTBrUXlIV1FwcUhYSlo4d1daVWJKSW5SeG9jVmtSd3pjZEVQX2RibFQwZ3F4TnBWQ1lRbzNRVF93RE9zeDR0UVIyeDNCWmtrbUhrenFWUjdJSkZEOWw0atIBnwFBVV95cUxQekx0RFdGSW0zd0UyZUJvZG9SMmk5VG40UmFvT1VZMUIwNkFiTDBSNzBEam1GdE15UGVhV2NfaHE5QnZMVzJIVm44WDRZY011d3BqOFh4V2h4VGhQN2NBbm1BWm9nQnlNZTJ0TmkwWWotZWFpNVNoMjZ2N0lxNVFlQUw3cEJvOWxEQ3FaRVZLYU4zcC1wT0tZa1RBOER2V28?oc=5)** - Global News Toronto  \\n   The city of Abbotsford is taking steps to remove a homeless encampment near city hall.\\n\\n5. **[Protest encampment in shadow of Abbotsford City Hall to be dismantled](https://news.google.com/rss/articles/CBMijwFBVV95cUxPNERZQ3ptaG5DYUd1S1pudXhZa1B6VzZpWEExRGRMM09EcXBjQXRXR01MbVlCVHNVYmlVRWxGTDlsY29WcUJWbV90VEJfbHpCeVZiSHRlVUdOb3hxTkhfeWZpX0kwNjNkbDRkUlg3dXhxcUg0T0I4MEdTZDRIUmU2WHpwZElyV1NBc084QndUVQ?oc=5)** - Vancouver Sun  \\n   A protest encampment near Abbotsford City Hall is scheduled to be dismantled.\\n\\nFeel free to click on the links for more details on each article!', 'messages': [AIMessage(content='Here are some recent news articles related to the city of Abbotsford:\\n\\n1. **[Applications open for Neighbourhood Small Grants in Abbotsford](https://news.google.com/rss/articles/CBMipwFBVV95cUxQTktIbFBDemE0SEtqMWJteVE5cUp2SkgzNHl2NWZNQmJnbmM2Q29DM0xONkZWSENmSXBFeVVSSU4zQWgwRTdnU283M2V5MkRnUGdST3RHbmEwcHZHWEttYkE3NlVLcmUtZGtIV0Q5NWd5MUZlRzhDOXVRbjNFU3UxMDdFeFIyLVYwb3FBaVBkVy1KWFZnd08yRk0yZU5LZTY5dWgyQUFuUQ?oc=5)** - Abbotsford News  \\n   Applications are now open for the Neighbourhood Small Grants program in Abbotsford.\\n\\n2. **[Abbotsford and Mission brace for impact of potential U.S. tariffs](https://news.google.com/rss/articles/CBMipwFBVV95cUxNcEhLdUxiR0VrQ0J6cF9JUTZnVkI2VU53M1J4ekVDT1VJT2djZ2llcEV2UXhzbnpSUC1WYWRlSjA4M1hFYjRyUFFzT1FJSlE0ODJZa2xvSVVOUDMzWjB2UEJzYWppY1FQNWU0UlVJQjZmVjNGd1BQNFkyQ3BpazBYSEdxRW9URlgwT05vbHhoYllXbWNmNVBYT1VHNDdpLTdqcks3SFpUSdIBR0FVX3lxTE5XSkxVWjAzbk1DeHdsWlNKWUxENjJjTXczVXFpTXVKaUxJVUJkM05NaDJmOW9PZGZWNXlJTlRqU0pyTWVTdXBZ?oc=5)** - CBC.ca  \\n   Abbotsford and Mission are preparing for the potential impact of new tariffs from the U.S.\\n\\n3. **[Tuesday - Feb. 25, 2025 - A major downtown Abbotsford apartment proposal](https://news.google.com/rss/articles/CBMiUkFVX3lxTFAtd0VOTXdLR1BZZkhDQ3VLWXlaNlVGU3JZcjQzUFAzZnZEZ2pfa2trc1JpWFVkT2Mwc19sWmZicWc1UW91ZFU0R194dnMteGVlN0E?oc=5)** - Fraser Valley Current  \\n   A significant apartment proposal is set for downtown Abbotsford.\\n\\n4. **[Abbotsford seeks to remove city hall homeless encampment](https://news.google.com/rss/articles/CBMimAFBVV95cUxQRkY0MUU2S1VMYV9qMTk2cm5lSHNGNGJBWThsQTJpaTU5b2F2QUFKUmhINEtvYm0wV1Q2cE5mVU15UTBrUXlIV1FwcUhYSlo4d1daVWJKSW5SeG9jVmtSd3pjZEVQX2RibFQwZ3F4TnBWQ1lRbzNRVF93RE9zeDR0UVIyeDNCWmtrbUhrenFWUjdJSkZEOWw0atIBnwFBVV95cUxQekx0RFdGSW0zd0UyZUJvZG9SMmk5VG40UmFvT1VZMUIwNkFiTDBSNzBEam1GdE15UGVhV2NfaHE5QnZMVzJIVm44WDRZY011d3BqOFh4V2h4VGhQN2NBbm1BWm9nQnlNZTJ0TmkwWWotZWFpNVNoMjZ2N0lxNVFlQUw3cEJvOWxEQ3FaRVZLYU4zcC1wT0tZa1RBOER2V28?oc=5)** - Global News Toronto  \\n   The city of Abbotsford is taking steps to remove a homeless encampment near city hall.\\n\\n5. **[Protest encampment in shadow of Abbotsford City Hall to be dismantled](https://news.google.com/rss/articles/CBMijwFBVV95cUxPNERZQ3ptaG5DYUd1S1pudXhZa1B6VzZpWEExRGRMM09EcXBjQXRXR01MbVlCVHNVYmlVRWxGTDlsY29WcUJWbV90VEJfbHpCeVZiSHRlVUdOb3hxTkhfeWZpX0kwNjNkbDRkUlg3dXhxcUg0T0I4MEdTZDRIUmU2WHpwZElyV1NBc084QndUVQ?oc=5)** - Vancouver Sun  \\n   A protest encampment near Abbotsford City Hall is scheduled to be dismantled.\\n\\nFeel free to click on the links for more details on each article!')]}\n",
      "============================================================\n"
     ]
    }
   ],
   "source": [
    "result = agent_executor.stream({\"input\": \"search news about city of abbotsford\"})\n",
    "for step in result:\n",
    "    print(step)\n",
    "    print(\"===\" * 20)"
   ]
  },
  {
   "cell_type": "code",
   "execution_count": 22,
   "metadata": {},
   "outputs": [],
   "source": [
    "from AbbyUtils import AgentStreamParser\n",
    "\n",
    "agent_stream_parser = AgentStreamParser()"
   ]
  },
  {
   "cell_type": "code",
   "execution_count": 23,
   "metadata": {},
   "outputs": [
    {
     "name": "stderr",
     "output_type": "stream",
     "text": [
      "Python REPL can execute arbitrary code. Use with caution.\n"
     ]
    },
    {
     "name": "stdout",
     "output_type": "stream",
     "text": [
      "[도구 호출]\n",
      "Tool: python_repl_tool\n",
      "code: import matplotlib.pyplot as plt\n",
      "import numpy as np\n",
      "\n",
      "# Sample data: years and corresponding population\n",
      "years = np.array([2000, 2005, 2010, 2015, 2020, 2023])\n",
      "population = np.array([500000, 550000, 600000, 650000, 700000, 720000])\n",
      "\n",
      "# Create a plot\n",
      "plt.figure(figsize=(10, 5))\n",
      "plt.plot(years, population, marker='o')\n",
      "plt.title('Population Growth Over Time')\n",
      "plt.xlabel('Year')\n",
      "plt.ylabel('Population')\n",
      "plt.grid(True)\n",
      "plt.xticks(years)\n",
      "plt.yticks(np.arange(500000, 800001, 50000))\n",
      "plt.show()\n",
      "Log: \n",
      "Invoking: `python_repl_tool` with `{'code': \"import matplotlib.pyplot as plt\\nimport numpy as np\\n\\n# Sample data: years and corresponding population\\nyears = np.array([2000, 2005, 2010, 2015, 2020, 2023])\\npopulation = np.array([500000, 550000, 600000, 650000, 700000, 720000])\\n\\n# Create a plot\\nplt.figure(figsize=(10, 5))\\nplt.plot(years, population, marker='o')\\nplt.title('Population Growth Over Time')\\nplt.xlabel('Year')\\nplt.ylabel('Population')\\nplt.grid(True)\\nplt.xticks(years)\\nplt.yticks(np.arange(500000, 800001, 50000))\\nplt.show()\"}`\n",
      "\n",
      "\n",
      "\n"
     ]
    },
    {
     "data": {
      "image/png": "[encoded data removed]",
      "text/plain": [
       "<Figure size 1000x500 with 1 Axes>"
      ]
     },
     "metadata": {},
     "output_type": "display_data"
    },
    {
     "name": "stdout",
     "output_type": "stream",
     "text": [
      "[관찰 내용]\n",
      "Observation: \n",
      "[최종 답변]\n",
      "The graph of the population growth over time has been plotted successfully. It shows the increase in the number of people in a city from the year 2000 to 2023. If you have any specific requests or need further modifications, feel free to ask!\n"
     ]
    }
   ],
   "source": [
    "result = agent_executor.stream(\n",
    "    {\"input\": \"using matplotlib to plot a graph of the number of people in a city over time and excute it\"}\n",
    ")\n",
    "\n",
    "for step in result:\n",
    "\n",
    "    agent_stream_parser.process_agent_steps(step)"
   ]
  },
  {
   "cell_type": "code",
   "execution_count": null,
   "metadata": {},
   "outputs": [],
   "source": [
    "from langchain_community.chat_message_histories import ChatMessageHistory\n",
    "from langchain_core.runnables.history import RunnableWithMessageHistory\n",
    "\n",
    "store ={}\n",
    "\n",
    "def get_session_history(session_ids):\n",
    "    if session_ids not in store:\n",
    "        store[session_ids] = ChatMessageHistory()\n",
    "    return store[session_ids]\n",
    "\n",
    "agent_with_chat_history = RunnableWithMessageHistory(\n",
    "    agent_executor,\n",
    "    get_session_history,\n",
    "    input_messages_key= \"input\",\n",
    "    history_messages_key= \"chat_history\",\n",
    ")\n"
   ]
  }
 ],
 "metadata": {
  "kernelspec": {
   "display_name": "env",
   "language": "python",
   "name": "python3"
  },
  "language_info": {
   "codemirror_mode": {
    "name": "ipython",
    "version": 3
   },
   "file_extension": ".py",
   "mimetype": "text/x-python",
   "name": "python",
   "nbconvert_exporter": "python",
   "pygments_lexer": "ipython3",
   "version": "3.11.9"
  }
 },
 "nbformat": 4,
 "nbformat_minor": 2
}
