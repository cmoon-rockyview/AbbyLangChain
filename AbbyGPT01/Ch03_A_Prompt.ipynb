{
 "cells": [
  {
   "cell_type": "code",
   "execution_count": null,
   "metadata": {},
   "outputs": [
    {
     "data": {
      "text/plain": [
       "True"
      ]
     },
     "execution_count": 20,
     "metadata": {},
     "output_type": "execute_result"
    }
   ],
   "source": [
    "from dotenv import load_dotenv\n",
    "#API Key Load\n",
    "load_dotenv()\n"
   ]
  },
  {
   "cell_type": "code",
   "execution_count": 21,
   "metadata": {},
   "outputs": [
    {
     "name": "stdout",
     "output_type": "stream",
     "text": [
      "LangSmith is enabled.\n",
      "[Project_Name]:AbbyCh03\n"
     ]
    }
   ],
   "source": [
    "import sys\n",
    "sys.path.append('AbbyUtils.py')\n",
    "from AbbyUtils import langsmith\n",
    "langsmith('AbbyCh03', True)"
   ]
  },
  {
   "cell_type": "markdown",
   "metadata": {},
   "source": [
    "## PromptTemplate"
   ]
  },
  {
   "cell_type": "code",
   "execution_count": 25,
   "metadata": {},
   "outputs": [],
   "source": [
    "from langchain_openai import ChatOpenAI\n",
    "from langchain_core.prompts import PromptTemplate\n",
    "\n",
    "\n",
    "llm = ChatOpenAI(model = \"gpt-4o-mini\", temperature=0)\n"
   ]
  },
  {
   "cell_type": "markdown",
   "metadata": {},
   "source": [
    "### Method 1. Create a PromptTemplate object using the from_template() method\n",
    "\n",
    "- Define the template by enclosing the variables to be substituted in `{ variable }`."
   ]
  },
  {
   "cell_type": "code",
   "execution_count": 26,
   "metadata": {},
   "outputs": [
    {
     "data": {
      "text/plain": [
       "'Tell me about the history of the Roman Empire in 100 words or less.'"
      ]
     },
     "execution_count": 26,
     "metadata": {},
     "output_type": "execute_result"
    }
   ],
   "source": [
    "template = \"Tell me about {topic} in 100 words or less.\"\n",
    "prompt = PromptTemplate.from_template(template)\n",
    "prompt = prompt.format(topic=\"the history of the Roman Empire\")\n",
    "\n",
    "prompt"
   ]
  },
  {
   "cell_type": "code",
   "execution_count": 27,
   "metadata": {},
   "outputs": [
    {
     "data": {
      "text/plain": [
       "'The Roman Empire, founded in 27 BCE when Augustus became the first emperor, expanded across Europe, North Africa, and the Middle East. It reached its peak in the 2nd century CE, known for its engineering, law, and culture. The empire faced internal strife, economic troubles, and external invasions, leading to its division in 285 CE into Eastern and Western Roman Empires. The Western Empire fell in 476 CE, while the Eastern Empire, known as the Byzantine Empire, continued until 1453. The legacy of Rome profoundly influenced Western civilization, law, architecture, and governance.'"
      ]
     },
     "execution_count": 27,
     "metadata": {},
     "output_type": "execute_result"
    }
   ],
   "source": [
    "reponse = llm.invoke(prompt)\n",
    "reponse.content"
   ]
  },
  {
   "cell_type": "code",
   "execution_count": 28,
   "metadata": {},
   "outputs": [
    {
     "data": {
      "text/plain": [
       "PromptTemplate(input_variables=['topic'], template='Tell me about {topic} in 100 words or less.')"
      ]
     },
     "execution_count": 28,
     "metadata": {},
     "output_type": "execute_result"
    }
   ],
   "source": [
    "\n",
    "template = \"Tell me about {topic} in 100 words or less.\"\n",
    "prompt = PromptTemplate.from_template(template)\n",
    "prompt"
   ]
  },
  {
   "cell_type": "code",
   "execution_count": 29,
   "metadata": {},
   "outputs": [],
   "source": [
    "chain = prompt | llm"
   ]
  },
  {
   "cell_type": "code",
   "execution_count": 30,
   "metadata": {},
   "outputs": [
    {
     "data": {
      "text/plain": [
       "AIMessage(content='Abbotsford is a city in British Columbia, Canada, located in the Fraser Valley, approximately 70 kilometers east of Vancouver. Known for its agricultural heritage, it boasts a diverse economy and a rich cultural scene. The city features numerous parks, recreational facilities, and the scenic Sumas Mountain. Abbotsford is home to the annual Abbotsford International Airshow and the historic Clayburn Village. With a population of over 150,000, it is one of the fastest-growing cities in Canada, offering a blend of urban amenities and natural beauty, making it an attractive place to live and visit.', additional_kwargs={'refusal': None}, response_metadata={'token_usage': {'completion_tokens': 122, 'prompt_tokens': 22, 'total_tokens': 144, 'prompt_tokens_details': {'cached_tokens': 0, 'audio_tokens': 0}, 'completion_tokens_details': {'reasoning_tokens': 0, 'audio_tokens': 0, 'accepted_prediction_tokens': 0, 'rejected_prediction_tokens': 0}}, 'model_name': 'gpt-4o-mini-2024-07-18', 'system_fingerprint': 'fp_bd83329f63', 'finish_reason': 'stop', 'logprobs': None}, id='run-ce8141a1-9404-4239-b792-78cff5e5e788-0', usage_metadata={'input_tokens': 22, 'output_tokens': 122, 'total_tokens': 144})"
      ]
     },
     "execution_count": 30,
     "metadata": {},
     "output_type": "execute_result"
    }
   ],
   "source": [
    "#chain.invoke(\"city of abbotsford\")\n",
    "response = chain.invoke({\"topic\": \"city of abbotsford\"})\n",
    "response"
   ]
  },
  {
   "cell_type": "code",
   "execution_count": 31,
   "metadata": {},
   "outputs": [
    {
     "data": {
      "text/plain": [
       "'Abbotsford is a city in British Columbia, Canada, located in the Fraser Valley, approximately 70 kilometers east of Vancouver. Known for its agricultural heritage, it boasts a diverse economy and a rich cultural scene. The city features numerous parks, recreational facilities, and the scenic Sumas Mountain. Abbotsford is home to the annual Abbotsford International Airshow and the historic Clayburn Village. With a population of over 150,000, it is one of the fastest-growing cities in Canada, offering a blend of urban amenities and natural beauty, making it an attractive place to live and visit.'"
      ]
     },
     "execution_count": 31,
     "metadata": {},
     "output_type": "execute_result"
    }
   ],
   "source": [
    "response.content"
   ]
  },
  {
   "cell_type": "markdown",
   "metadata": {},
   "source": [
    "# Yaml vs Json\n",
    "https://www.notion.so/YAML-vs-JSON-Key-Differences-1982aa64aeb580708566fc9e0205f758\n"
   ]
  },
  {
   "cell_type": "markdown",
   "metadata": {},
   "source": [
    "## Read Template from a file"
   ]
  },
  {
   "cell_type": "code",
   "execution_count": 32,
   "metadata": {},
   "outputs": [],
   "source": [
    "from langchain_core.prompts import load_prompt\n",
    "\n",
    "prompt_capital = load_prompt(\"prompts/country_capital.yaml\", encoding=\"utf-8\")"
   ]
  },
  {
   "cell_type": "code",
   "execution_count": 33,
   "metadata": {},
   "outputs": [],
   "source": [
    "chain_capital = prompt_capital | llm\n",
    "reponse_capital = chain_capital.invoke({\"country\": \"Mauritius\"})"
   ]
  },
  {
   "cell_type": "code",
   "execution_count": 34,
   "metadata": {},
   "outputs": [
    {
     "name": "stdout",
     "output_type": "stream",
     "text": [
      "The capital of Mauritius is Port Louis.\n"
     ]
    }
   ],
   "source": [
    "print(reponse_capital.content)"
   ]
  },
  {
   "cell_type": "code",
   "execution_count": 35,
   "metadata": {},
   "outputs": [
    {
     "data": {
      "text/plain": [
       "PromptTemplate(input_variables=['email_content'], template='You are analyzing an email from the council correspondence of the City of Abbotsford, BC. \\nYour task is to categorize the {email_content} into one of the following predefined categories:\\n\\n1. **Legal & Legislative Services**\\n2. **Abbotsford Police Department**\\n3. **Innovation, Strategy & Intergovernmental Relations**\\n4. **Planning & Development Services**\\n5. **Engineering**\\n6. **Finance & Procurement Services**\\n7. **Airport**\\n8. **Parks, Recreation & Culture**\\n9. **Operations**\\n10. **Fire Rescue Services**\\n\\n### Instructions:\\n\\n- Carefully read the email content.\\n- Analyze its main subject matter and context.\\n- Determine which category best represents the topic of the email.\\n- If more than two categories are required, list each category along with its respective score.\\n- Think through the classification process step by step before making a final decision.\\n')"
      ]
     },
     "execution_count": 35,
     "metadata": {},
     "output_type": "execute_result"
    }
   ],
   "source": [
    "prompt_abbyEmail = load_prompt(\"prompts/AbbyCC.yaml\", encoding=\"utf-8\")\n",
    "prompt_abbyEmail"
   ]
  },
  {
   "cell_type": "code",
   "execution_count": 36,
   "metadata": {},
   "outputs": [],
   "source": [
    "email_content = \"\"\"\n",
    "\n",
    "From: John Surjadi <surjadigroup@gmail.com> \n",
    "Sent: Friday, July 5, 2024 6:31 PM\n",
    "To: Ross Siemens <RSiemens@abbotsford.ca>\n",
    "Subject: RE: gasoline gouging\n",
    "\n",
    "I would like the gouging in Abbotsford to stop, today the prices were cheaper in Vancouver than they were in Abbotsford and as the mayor of Abbotsford I would think that you would have something to say about this... I'm not happy to know that our Mayor is not concerned enough to regulate how business is being conducted in Abbotsford BC... We are already taxed to death and this is completely out of control when gasoline prices in Abbotsford are higher than Metro Vancouver...\n",
    "I have reached out to you in the past, I have sent you emails regarding this problem and just like every other politician, you have pass the buck and told me that you do not control the gas pricing in Abbotsford... Notes you are also in the gasoline business... well it's about time our Mayor took interest and the concerns of your voters and started to do something to contain this matter... \n",
    "\n",
    "I will no longer vote for you in the future if something is not done about this immediately this year... \n",
    "It's bad enough we have a carbon tax...\n",
    "\n",
    "Yours truly Richard Williams\n",
    "\n",
    "\"\"\""
   ]
  },
  {
   "cell_type": "code",
   "execution_count": 37,
   "metadata": {},
   "outputs": [],
   "source": [
    "from langchain_core.output_parsers import StrOutputParser\n",
    "\n",
    "outputParser = StrOutputParser()\n",
    "chain_abbyEmail = prompt_abbyEmail | llm | outputParser\n"
   ]
  },
  {
   "cell_type": "code",
   "execution_count": null,
   "metadata": {},
   "outputs": [
    {
     "name": "stdout",
     "output_type": "stream",
     "text": [
      "To categorize the email from Richard Williams, I will analyze the content step by step:\n",
      "\n",
      "1. **Subject Matter**: The email discusses concerns about gasoline prices in Abbotsford being higher than in Vancouver. The sender expresses frustration with the mayor's lack of action regarding this issue and mentions the impact of taxes, including a carbon tax.\n",
      "\n",
      "2. **Key Themes**:\n",
      "   - **Gasoline Pricing**: The primary concern is about the pricing of gasoline in Abbotsford compared to neighboring areas.\n",
      "   - **Regulation and Governance**: The sender is unhappy with the perceived inaction of the mayor and local government regarding business practices and pricing.\n",
      "   - **Political Accountability**: The sender threatens to withdraw support for the mayor if the issue is not addressed.\n",
      "\n",
      "3. **Potential Categories**:\n",
      "   - **Legal & Legislative Services**: This could relate to regulations governing pricing, but it is not the primary focus.\n",
      "   - **Innovation, Strategy & Intergovernmental Relations**: This category does not directly apply as the email is more about local pricing than intergovernmental relations.\n",
      "   - **Finance & Procurement Services**: This could relate to economic concerns, but it does not specifically address financial management or procurement.\n",
      "   - **Operations**: This category could apply if the email were about operational issues within the city, but it is more focused on pricing.\n",
      "   - **Other Categories**: The email does not pertain to police, planning, engineering, airport, parks, or fire services.\n",
      "\n",
      "4. **Best Fit**: The email primarily addresses the issue of gasoline pricing and the mayor's responsibility in regulating or addressing this concern. The most relevant category would be **Legal & Legislative Services**, as it involves governance and potential regulatory issues related to business practices.\n",
      "\n",
      "### Final Decision:\n",
      "- **Category**: Legal & Legislative Services\n",
      "- **Score**: 1 (as it is the most relevant category)\n",
      "\n",
      "Thus, the email is categorized under **Legal & Legislative Services**.\n"
     ]
    }
   ],
   "source": [
    "response = chain_abbyEmail.stream({\"email_content\": email_content})\n",
    "\n",
    "print(response)"
   ]
  },
  {
   "cell_type": "code",
   "execution_count": 38,
   "metadata": {},
   "outputs": [],
   "source": [
    "from langchain_google_genai import ChatGoogleGenerativeAI\n",
    "\n",
    "llm_gemini = ChatGoogleGenerativeAI(model=\"gemini-1.5-pro-latest\")\n",
    "\n",
    "chain_abbyEmail_gemini = prompt_abbyEmail | llm_gemini"
   ]
  },
  {
   "cell_type": "code",
   "execution_count": 39,
   "metadata": {},
   "outputs": [
    {
     "name": "stdout",
     "output_type": "stream",
     "text": [
      "The email pertains to gasoline prices in Abbotsford, which the sender perceives as unfairly high (\"gouging\").  While the sender mentions taxes, the core complaint isn't about tax rates themselves but rather the final cost of gasoline.  They are appealing directly to the mayor (believing Ross Siemens is the mayor) to intervene and regulate gas prices.  This falls under the purview of **Innovation, Strategy & Intergovernmental Relations**.  This department often handles policy discussions, strategic initiatives, and interactions with other levels of government (which might be necessary if the city were to attempt to influence or regulate fuel pricing).\n",
      "\n",
      "While **Finance & Procurement Services** might seem tangentially related due to the mention of taxes, the primary concern isn't about the city's financial operations or procurement processes.  The email is about advocating for a policy change regarding an external market factor.\n",
      "\n",
      "Therefore, the most appropriate category is:\n",
      "\n",
      "**3. Innovation, Strategy & Intergovernmental Relations**\n",
      "\n"
     ]
    }
   ],
   "source": [
    "response = chain_abbyEmail_gemini.invoke({\"email_content\": email_content})\n",
    "\n",
    "print(response.content)"
   ]
  },
  {
   "cell_type": "code",
   "execution_count": null,
   "metadata": {},
   "outputs": [],
   "source": []
  }
 ],
 "metadata": {
  "kernelspec": {
   "display_name": "env",
   "language": "python",
   "name": "python3"
  },
  "language_info": {
   "codemirror_mode": {
    "name": "ipython",
    "version": 3
   },
   "file_extension": ".py",
   "mimetype": "text/x-python",
   "name": "python",
   "nbconvert_exporter": "python",
   "pygments_lexer": "ipython3",
   "version": "3.11.6"
  }
 },
 "nbformat": 4,
 "nbformat_minor": 2
}
