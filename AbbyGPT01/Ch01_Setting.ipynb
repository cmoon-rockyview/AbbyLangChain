{
 "cells": [
  {
   "cell_type": "markdown",
   "metadata": {},
   "source": [
    "## Issuing and Setting Up OpenAI API Key\n",
    "\n",
    "1. Issuing OpenAI API Key\n",
    "\n",
    "- Please refer to the [How to Issue OpenAI API Key](https://platform.openai.com/docs/overview) article.\n",
    "\n",
    "1. Setting Up `.env` File\n",
    "\n",
    "- Create a `.env` file in the root directory of the project.\n",
    "- Save the API key in the following format in the file:\n",
    "    Enter the issued API KEY in `OPENAI_API_KEY`.\n",
    "\n",
    "- Enter the issued API KEY in the `.env` file."
   ]
  },
  {
   "cell_type": "code",
   "execution_count": null,
   "metadata": {},
   "outputs": [],
   "source": [
    "from dotenv import load_dotenv\n",
    "#API Key Load\n",
    "load_dotenv()"
   ]
  },
  {
   "cell_type": "code",
   "execution_count": null,
   "metadata": {},
   "outputs": [],
   "source": [
    "import os\n",
    "\n",
    "print(f\"[API KEY]\\n{os.environ['OPENAI_API_KEY'][:-15]}\" + \"*\" * 15)"
   ]
  },
  {
   "cell_type": "markdown",
   "metadata": {},
   "source": [
    "### Check the version"
   ]
  },
  {
   "cell_type": "code",
   "execution_count": null,
   "metadata": {},
   "outputs": [],
   "source": [
    "from importlib.metadata import version\n",
    "\n",
    "print(\"[LangChain Packages]\")\n",
    "for package_name in [\n",
    "    \"langchain\",\n",
    "    \"langchain-core\",\n",
    "    \"langchain-experimental\",\n",
    "    \"langchain-community\",\n",
    "    \"langchain-openai\",\n",
    "    \"langchain-huggingface\",\n",
    "    \"langchain-google-genai\",\n",
    "    \"langchain-anthropic\",\n",
    "    \"langchain-cohere\",\n",
    "    \"langchain-chroma\",\n",
    "    \"langchain-elasticsearch\",\n",
    "    \"langchain-upstage\",\n",
    "    \"langchain-cohere\",\n",
    "    \"langchain-milvus\",\n",
    "    \"langchain-text-splitters\",\n",
    "]:\n",
    "    try:\n",
    "        package_version = version(package_name)\n",
    "        print(f\"{package_name}: {package_version}\")\n",
    "    except ImportError:\n",
    "        print(f\"{package_name}: Not Installed\")"
   ]
  },
  {
   "cell_type": "markdown",
   "metadata": {},
   "source": [
    "Here's a table with some frequently used **Markdown syntax** in Jupyter Notebook:\n",
    "\n",
    "| Feature       | Syntax Example                          | Output Example |\n",
    "|--------------|--------------------------------------|----------------|\n",
    "| **Headings** | `# Heading 1` <br> `## Heading 2` <br> `### Heading 3` | **Heading 1** <br> *Heading 2* <br> ***Heading 3*** |\n",
    "| **Bold** | `**Bold Text**` or `__Bold Text__` | **Bold Text** |\n",
    "| **Italic** | `*Italic Text*` or `_Italic Text_` | *Italic Text* |\n",
    "| **Bold + Italic** | `***Bold & Italic***` | ***Bold & Italic*** |\n",
    "| **Lists (Unordered)** | `- Item 1` <br> `- Item 2` <br> `  - Sub-item` | - Item 1 <br> - Item 2 <br>  - Sub-item |\n",
    "| **Lists (Ordered)** | `1. First item` <br> `2. Second item` | 1. First item <br> 2. Second item |\n",
    "| **Inline Code** | `` `code` `` | `code` |\n",
    "| **Code Block** | <pre>```python <br> print(\"Hello World\") <br> ```</pre> | ```python print(\"Hello World\") ``` |\n",
    "| **Blockquote** | `> This is a quote` | > This is a quote |\n",
    "| **Horizontal Line** | `---` or `***` | --- |\n",
    "| **Link** | `[OpenAI](https://openai.com)` | [OpenAI](https://openai.com) |\n",
    "| **Image** | `![Alt Text](image_url.jpg)` | ![Alt Text](image_url.jpg) |\n",
    "| **Tables** | <pre> | Column 1 | Column 2 | <br> |---------|---------| <br> | Data 1 | Data 2 |</pre> |  Column 1 | Column 2  <br> --------- | ---------  <br> Data 1 | Data 2 |\n",
    "\n",
    "These are the most commonly used **Markdown elements** in Jupyter Notebook. "
   ]
  },
  {
   "cell_type": "markdown",
   "metadata": {},
   "source": [
    "# LLMs recognize markdown syntax"
   ]
  },
  {
   "cell_type": "markdown",
   "metadata": {},
   "source": [
    "## Jupiter Notebook Hotkeys\n",
    "\n",
    "| **Hotkey**            | **Function**                                   |\n",
    "|----------------------|--------------------------------------------|\n",
    "| **Command Mode (Press `Esc` to enter)** | |\n",
    "| `Enter`            | Switch to Edit mode                         |\n",
    "| `Shift + Enter`    | Run the current cell and move to the next  |\n",
    "| `Ctrl + Enter`     | Run the current cell, stay in the cell     |\n",
    "| `Alt + Enter`      | Run the current cell and insert a new one below |\n",
    "| `Y`               | Change cell to Code mode                    |\n",
    "| `M`               | Change cell to Markdown mode                |\n",
    "| `A`               | Insert a new cell above                     |\n",
    "| `B`               | Insert a new cell below                     |\n",
    "| `D, D`            | Delete selected cell                        |\n",
    "| `Z`               | Undo cell deletion                          |\n",
    "| `Shift + M`       | Merge selected cells                        |\n",
    "| `Up` or `Down`    | Move between cells                         |\n",
    "| `Ctrl + Shift + -`| Split cell at the cursor position          |\n",
    "| `H`               | Show all keyboard shortcuts                |\n",
    "| **Edit Mode (Press `Enter` to enter)** | |\n",
    "| `Tab`             | Auto-complete code                         |\n",
    "| `Shift + Tab`     | Show function signature                    |\n",
    "| `Ctrl + Shift + P`| Open command palette                       |\n",
    "| `Esc`             | Switch to Command mode                     |\n",
    "\n",
    "\n",
    "Let me know if you need more details! 🚀"
   ]
  },
  {
   "cell_type": "markdown",
   "metadata": {},
   "source": []
  }
 ],
 "metadata": {
  "kernelspec": {
   "display_name": "env",
   "language": "python",
   "name": "python3"
  },
  "language_info": {
   "codemirror_mode": {
    "name": "ipython",
    "version": 3
   },
   "file_extension": ".py",
   "mimetype": "text/x-python",
   "name": "python",
   "nbconvert_exporter": "python",
   "pygments_lexer": "ipython3",
   "version": "3.11.6"
  }
 },
 "nbformat": 4,
 "nbformat_minor": 2
}
