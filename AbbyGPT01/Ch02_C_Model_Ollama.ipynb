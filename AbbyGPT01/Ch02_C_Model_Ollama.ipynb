{
 "cells": [
  {
   "cell_type": "code",
   "execution_count": null,
   "metadata": {},
   "outputs": [
    {
     "name": "stdout",
     "output_type": "stream",
     "text": [
      "content=' Abbotsford is a city in the province of British Columbia, Canada. It is located in the lower Fraser Valley region and is situated on the Fraser River and its mission tributary, approximately 65 kilometers (40 mi) east of Vancouver. The city has a population of around 150,000 people as of 2021. Abbotsford is known for its agriculture industry, especially the production of blueberries, raspberries, and sweet corn. It also has a significant cultural and recreational center in the Fraser Valley region, hosting various events such as the annual Abbotsford International Airshow.' response_metadata={'model': 'mistral', 'created_at': '2025-02-17T06:01:34.0976607Z', 'message': {'role': 'assistant', 'content': ''}, 'done_reason': 'stop', 'done': True, 'total_duration': 34747852500, 'load_duration': 11737613300, 'prompt_eval_count': 13, 'prompt_eval_duration': 1267000000, 'eval_count': 137, 'eval_duration': 21736000000} id='run-38a30760-df3e-478a-9a68-d70305dedd9d-0'\n"
     ]
    }
   ],
   "source": [
    "from langchain_community.chat_models import ChatOllama\n",
    "\n",
    "llm = ChatOllama(model=\"mistral\")\n",
    "response = llm.invoke(\"Where is abbotsford located?\")\n",
    "print(response)\n",
    "\n"
   ]
  },
  {
   "cell_type": "code",
   "execution_count": 3,
   "metadata": {},
   "outputs": [
    {
     "name": "stdout",
     "output_type": "stream",
     "text": [
      " Abbotsford is a city in the province of British Columbia, Canada. It's situated in the lower Fraser Valley region, approximately 65 kilometers (40 miles) east of Vancouver. The city is known for its beautiful scenery, agricultural land, and the scenic Fraser River, which flows through it. Abbotsford is also home to the University of the Fraser Valley and the Abbotsford International Airport."
     ]
    }
   ],
   "source": [
    "answer = llm.stream(\"Where is abbotsford located?\")\n",
    "\n",
    "final_answer = ''\n",
    "for token in answer:\n",
    "    final_answer += token.content\n",
    "    print(token.content, end=\"\", flush=True) "
   ]
  }
 ],
 "metadata": {
  "kernelspec": {
   "display_name": "env",
   "language": "python",
   "name": "python3"
  },
  "language_info": {
   "codemirror_mode": {
    "name": "ipython",
    "version": 3
   },
   "file_extension": ".py",
   "mimetype": "text/x-python",
   "name": "python",
   "nbconvert_exporter": "python",
   "pygments_lexer": "ipython3",
   "version": "3.11.6"
  }
 },
 "nbformat": 4,
 "nbformat_minor": 2
}
