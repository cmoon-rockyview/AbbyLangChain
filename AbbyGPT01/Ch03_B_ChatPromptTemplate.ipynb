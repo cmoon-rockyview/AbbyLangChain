{
 "cells": [
  {
   "cell_type": "code",
   "execution_count": 1,
   "metadata": {},
   "outputs": [
    {
     "data": {
      "text/plain": [
       "True"
      ]
     },
     "execution_count": 1,
     "metadata": {},
     "output_type": "execute_result"
    }
   ],
   "source": [
    "from dotenv import load_dotenv\n",
    "load_dotenv()"
   ]
  },
  {
   "cell_type": "code",
   "execution_count": 13,
   "metadata": {},
   "outputs": [
    {
     "name": "stdout",
     "output_type": "stream",
     "text": [
      "LangSmith is enabled.\n",
      "[Project_Name]:AbbyCh03\n"
     ]
    }
   ],
   "source": [
    "import sys\n",
    "sys.path.append('AbbyUtils.py')\n",
    "from AbbyUtils import langsmith\n",
    "langsmith('AbbyCh03', True)"
   ]
  },
  {
   "cell_type": "markdown",
   "metadata": {},
   "source": [
    "`ChatPromptTemplate` can be used when you want to inject a list of conversations as a prompt.\n",
    "\n",
    "Messages are composed in tuple format, (`role`, `message`), and created as a list.\n",
    "\n",
    "**role**\n",
    "- `\"system\"`: System setting message. Mainly prompts related to global settings.\n",
    "- `\"human\"`: User input message.\n",
    "- `\"ai\"`: AI response message."
   ]
  },
  {
   "cell_type": "code",
   "execution_count": 14,
   "metadata": {},
   "outputs": [],
   "source": [
    "from langchain_openai import ChatOpenAI\n",
    "llm = ChatOpenAI(model = \"gpt-4o-mini\")"
   ]
  },
  {
   "cell_type": "code",
   "execution_count": 15,
   "metadata": {},
   "outputs": [
    {
     "data": {
      "text/plain": [
       "ChatPromptTemplate(input_variables=['country'], messages=[SystemMessagePromptTemplate(prompt=PromptTemplate(input_variables=[], template='You are a helpful assistant')), HumanMessagePromptTemplate(prompt=PromptTemplate(input_variables=['country'], template='Where is capital of {country}'))])"
      ]
     },
     "execution_count": 15,
     "metadata": {},
     "output_type": "execute_result"
    }
   ],
   "source": [
    "from langchain_core.prompts import ChatPromptTemplate, load_prompt\n",
    "\n",
    "# ChatPromptTemplate 생성\n",
    "prompt = ChatPromptTemplate.from_messages(\n",
    "    [\n",
    "        (\"system\", \"You are a helpful assistant\"),\n",
    "        (\"user\", \"Where is capital of {country}\"),\n",
    "    ]\n",
    ")\n",
    "prompt"
   ]
  },
  {
   "cell_type": "code",
   "execution_count": 16,
   "metadata": {},
   "outputs": [
    {
     "data": {
      "text/plain": [
       "ChatPromptTemplate(input_variables=['country'], messages=[HumanMessagePromptTemplate(prompt=PromptTemplate(input_variables=['country'], template='Where is captial of {country}'))])"
      ]
     },
     "execution_count": 16,
     "metadata": {},
     "output_type": "execute_result"
    }
   ],
   "source": [
    "from langchain_core.prompts import ChatPromptTemplate\n",
    "\n",
    "chat_prompt = ChatPromptTemplate.from_template(\"Where is captial of {country}\")\n",
    "chat_prompt"
   ]
  },
  {
   "cell_type": "code",
   "execution_count": 6,
   "metadata": {},
   "outputs": [
    {
     "data": {
      "text/plain": [
       "'Human: Where is captial of France'"
      ]
     },
     "execution_count": 6,
     "metadata": {},
     "output_type": "execute_result"
    }
   ],
   "source": [
    "chat_prompt.format(country=\"France\")"
   ]
  },
  {
   "cell_type": "code",
   "execution_count": 17,
   "metadata": {},
   "outputs": [
    {
     "data": {
      "text/plain": [
       "[SystemMessage(content='You are a friendly AI assistant. Your name is Chris.'),\n",
       " HumanMessage(content='Nice to meet you!'),\n",
       " AIMessage(content='Hello! How can I assist you?'),\n",
       " HumanMessage(content='What is your name?')]"
      ]
     },
     "execution_count": 17,
     "metadata": {},
     "output_type": "execute_result"
    }
   ],
   "source": [
    "from langchain_core.prompts import ChatPromptTemplate\n",
    "\n",
    "chat_template = ChatPromptTemplate.from_messages(\n",
    "    [\n",
    "        # role, message\n",
    "        (\"system\", \"You are a friendly AI assistant. Your name is {name}.\"),\n",
    "        (\"human\", \"Nice to meet you!\"),\n",
    "        (\"ai\", \"Hello! How can I assist you?\"),\n",
    "        (\"human\", \"{user_input}\"),\n",
    "    ]\n",
    ")\n",
    "\n",
    "# 챗 message 를 생성합니다.\n",
    "messages = chat_template.format_messages(\n",
    "    name=\"Chris\", user_input=\"What is your name?\"\n",
    ")\n",
    "messages"
   ]
  },
  {
   "cell_type": "code",
   "execution_count": 18,
   "metadata": {},
   "outputs": [
    {
     "data": {
      "text/plain": [
       "'My name is Chris! What would you like to talk about today?'"
      ]
     },
     "execution_count": 18,
     "metadata": {},
     "output_type": "execute_result"
    }
   ],
   "source": [
    "llm.invoke(messages).content"
   ]
  },
  {
   "cell_type": "code",
   "execution_count": 19,
   "metadata": {},
   "outputs": [],
   "source": [
    "from langsmith import Client\n",
    "\n",
    "client = Client()\n",
    "prompt = client.pull_prompt(\"rlm/rag-prompt\")"
   ]
  },
  {
   "cell_type": "code",
   "execution_count": 45,
   "metadata": {},
   "outputs": [
    {
     "data": {
      "text/plain": [
       "ChatPromptTemplate(input_variables=['context', 'question'], metadata={'lc_hub_owner': 'rlm', 'lc_hub_repo': 'rag-prompt', 'lc_hub_commit_hash': '50442af133e61576e74536c6556cefe1fac147cad032f4377b60c436e6cdcb6e'}, messages=[HumanMessagePromptTemplate(prompt=PromptTemplate(input_variables=['context', 'question'], template=\"You are an assistant for question-answering tasks. Use the following pieces of retrieved context to answer the question. If you don't know the answer, just say that you don't know. Use three sentences maximum and keep the answer concise.\\nQuestion: {question} \\nContext: {context} \\nAnswer:\"))])"
      ]
     },
     "execution_count": 45,
     "metadata": {},
     "output_type": "execute_result"
    }
   ],
   "source": [
    "prompt"
   ]
  },
  {
   "cell_type": "code",
   "execution_count": 20,
   "metadata": {},
   "outputs": [
    {
     "name": "stdout",
     "output_type": "stream",
     "text": [
      "You are an assistant for question-answering tasks. Use the following pieces of retrieved context to answer the question. If you don't know the answer, just say that you don't know. Use three sentences maximum and keep the answer concise.\n",
      "Question: {question} \n",
      "Context: {context} \n",
      "Answer:\n"
     ]
    }
   ],
   "source": [
    "template = prompt.messages[0].prompt.template\n",
    "print(template)"
   ]
  },
  {
   "cell_type": "code",
   "execution_count": 21,
   "metadata": {},
   "outputs": [],
   "source": [
    "promptAbby = client.pull_prompt(\"abby_cc01\")"
   ]
  },
  {
   "cell_type": "code",
   "execution_count": 22,
   "metadata": {},
   "outputs": [
    {
     "data": {
      "text/plain": [
       "PromptTemplate(input_variables=['email_content', 'format'], metadata={'lc_hub_owner': '-', 'lc_hub_repo': 'abby_cc01', 'lc_hub_commit_hash': 'eaab05840007dc23fe6011e48decc3a38953c7cee68614ae21b260c98519655d'}, template='You are analyzing an email from the council correspondence of the City of Abbotsford, BC. \\n  Your task is to categorize the {email_content} into one of the following predefined categories:\\n\\n  1. **Legal & Legislative Services**\\n  2. **Abbotsford Police Department**\\n  3. **Innovation, Strategy & Intergovernmental Relations**\\n  4. **Planning & Development Services**\\n  5. **Engineering**\\n  6. **Finance & Procurement Services**\\n  7. **Airport**\\n  8. **Parks, Recreation & Culture**\\n  9. **Operations**\\n  10. **Fire Rescue Services**\\n\\n  ### Instructions:\\n\\n  - Carefully read the email content.\\n  - Analyze its main subject matter and context.\\n  - Determine which category best represents the topic of the email.\\n  - If more than two categories are required, list each category along with its respective score.\\n  - Think through the classification process step by step before making a final decision.\\n\\n  Format:\\n  {format}')"
      ]
     },
     "execution_count": 22,
     "metadata": {},
     "output_type": "execute_result"
    }
   ],
   "source": [
    "promptAbby"
   ]
  },
  {
   "cell_type": "code",
   "execution_count": 23,
   "metadata": {},
   "outputs": [
    {
     "name": "stdout",
     "output_type": "stream",
     "text": [
      "You are analyzing an email from the council correspondence of the City of Abbotsford, BC. \n",
      "  Your task is to categorize the {email_content} into one of the following predefined categories:\n",
      "\n",
      "  1. **Legal & Legislative Services**\n",
      "  2. **Abbotsford Police Department**\n",
      "  3. **Innovation, Strategy & Intergovernmental Relations**\n",
      "  4. **Planning & Development Services**\n",
      "  5. **Engineering**\n",
      "  6. **Finance & Procurement Services**\n",
      "  7. **Airport**\n",
      "  8. **Parks, Recreation & Culture**\n",
      "  9. **Operations**\n",
      "  10. **Fire Rescue Services**\n",
      "\n",
      "  ### Instructions:\n",
      "\n",
      "  - Carefully read the email content.\n",
      "  - Analyze its main subject matter and context.\n",
      "  - Determine which category best represents the topic of the email.\n",
      "  - If more than two categories are required, list each category along with its respective score.\n",
      "  - Think through the classification process step by step before making a final decision.\n",
      "\n",
      "  Format:\n",
      "  {format}\n"
     ]
    }
   ],
   "source": [
    "template = promptAbby.template\n",
    "print(template)\n"
   ]
  },
  {
   "cell_type": "code",
   "execution_count": 24,
   "metadata": {},
   "outputs": [],
   "source": [
    "from langchain import hub\n",
    "prompt = hub.pull(\"abby_cc01\")"
   ]
  },
  {
   "cell_type": "code",
   "execution_count": 25,
   "metadata": {},
   "outputs": [],
   "source": [
    "from langchain import hub\n",
    "prompt = hub.pull(\"chmoon/abby_cc01\")"
   ]
  },
  {
   "cell_type": "code",
   "execution_count": 26,
   "metadata": {},
   "outputs": [
    {
     "name": "stdout",
     "output_type": "stream",
     "text": [
      "You are analyzing an email from the council correspondence of the City of Abbotsford, BC. \n",
      "  Your task is to categorize the {email_content} into one of the following predefined categories:\n",
      "\n",
      "  1. **Legal & Legislative Services**\n",
      "  2. **Abbotsford Police Department**\n",
      "  3. **Innovation, Strategy & Intergovernmental Relations**\n",
      "  4. **Planning & Development Services**\n",
      "  5. **Engineering**\n",
      "  6. **Finance & Procurement Services**\n",
      "  7. **Airport**\n",
      "  8. **Parks, Recreation & Culture**\n",
      "  9. **Operations**\n",
      "  10. **Fire Rescue Services**\n",
      "\n",
      "  ### Instructions:\n",
      "\n",
      "  - Carefully read the email content.\n",
      "  - Analyze its main subject matter and context.\n",
      "  - Determine which category best represents the topic of the email.\n",
      "  - If more than two categories are required, list each category along with its respective score.\n",
      "  - Think through the classification process step by step before making a final decision.\n",
      "\n",
      "  Format:\n",
      "  {format}\n"
     ]
    }
   ],
   "source": [
    "print(prompt.template)"
   ]
  }
 ],
 "metadata": {
  "kernelspec": {
   "display_name": "env",
   "language": "python",
   "name": "python3"
  },
  "language_info": {
   "codemirror_mode": {
    "name": "ipython",
    "version": 3
   },
   "file_extension": ".py",
   "mimetype": "text/x-python",
   "name": "python",
   "nbconvert_exporter": "python",
   "pygments_lexer": "ipython3",
   "version": "3.11.6"
  }
 },
 "nbformat": 4,
 "nbformat_minor": 2
}
