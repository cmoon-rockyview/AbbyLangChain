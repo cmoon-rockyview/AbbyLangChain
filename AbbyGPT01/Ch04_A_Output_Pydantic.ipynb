{
 "cells": [
  {
   "cell_type": "markdown",
   "metadata": {},
   "source": [
    "# PydanticOutputParser\n",
    "\n",
    "`PydanticOutputParser` is a class that helps convert the output of a language model into **structured information**. Instead of providing simple text responses, this class can provide the necessary information in a **clear and systematic form**.\n",
    "\n",
    "By using this class, you can transform the output of a language model to fit a specific data model, making it easier to process and utilize the information.\n",
    "\n",
    "## Key Methods\n",
    "\n",
    "`PydanticOutputParser` (and most OutputParsers) should primarily implement **two core methods**.\n",
    "\n",
    "- **`get_format_instructions()`**: Provides instructions defining the format of the information that the language model should output. For example, it can return a string describing the fields and format of the data that the language model should output. These instructions are crucial for structuring the output and transforming it to fit a specific data model.\n",
    "- **`parse()`**: Takes the output of the language model (assumed to be a string) and parses and transforms it into a specific structure. Using tools like Pydantic, it validates the input string according to a predefined schema and converts it into a data structure that follows that schema.\n",
    "\n",
    "## References\n",
    "\n",
    "- [Pydantic Official Documentation](https://docs.pydantic.dev/latest/)\n"
   ]
  },
  {
   "cell_type": "code",
   "execution_count": 16,
   "metadata": {},
   "outputs": [
    {
     "data": {
      "text/plain": [
       "True"
      ]
     },
     "execution_count": 16,
     "metadata": {},
     "output_type": "execute_result"
    }
   ],
   "source": [
    "from dotenv import load_dotenv\n",
    "import sys\n",
    "sys.path.append('AbbyUtils.py')\n",
    "#API Key Load\n",
    "load_dotenv()"
   ]
  },
  {
   "cell_type": "code",
   "execution_count": 17,
   "metadata": {},
   "outputs": [
    {
     "name": "stdout",
     "output_type": "stream",
     "text": [
      "LangSmith is enabled.\n",
      "[Project_Name]:Ch04_A_OutputParser\n"
     ]
    }
   ],
   "source": [
    "from AbbyUtils import langsmith\n",
    "\n",
    "langsmith(\"Ch04_A_OutputParser\")"
   ]
  },
  {
   "cell_type": "code",
   "execution_count": 18,
   "metadata": {},
   "outputs": [],
   "source": [
    "from langchain_openai import ChatOpenAI\n",
    "from langchain_core.output_parsers import PydanticOutputParser\n",
    "from pydantic import BaseModel, Field\n",
    "from AbbyUtils import stream_response\n",
    "\n",
    "\n",
    "llm = ChatOpenAI(temperature=0, model_name=\"gpt-4o-mini\")"
   ]
  },
  {
   "cell_type": "code",
   "execution_count": 19,
   "metadata": {},
   "outputs": [],
   "source": [
    "email_content = \"\"\"\n",
    "\n",
    "From: John Surjadi <surjadigroup@gmail.com> \n",
    "Sent: Friday, July 5, 2024 6:31 PM\n",
    "To: Ross Siemens <RSiemens@abbotsford.ca>\n",
    "Subject: RE: gasoline gouging\n",
    "\n",
    "I would like the gouging in Abbotsford to stop, today the prices were cheaper in Vancouver than they were in Abbotsford and as the mayor of Abbotsford I would think that you would have something to say about this... I'm not happy to know that our Mayor is not concerned enough to regulate how business is being conducted in Abbotsford BC... We are already taxed to death and this is completely out of control when gasoline prices in Abbotsford are higher than Metro Vancouver...\n",
    "I have reached out to you in the past, I have sent you emails regarding this problem and just like every other politician, you have pass the buck and told me that you do not control the gas pricing in Abbotsford... Notes you are also in the gasoline business... well it's about time our Mayor took interest and the concerns of your voters and started to do something to contain this matter... \n",
    "\n",
    "I will no longer vote for you in the future if something is not done about this immediately this year... \n",
    "It's bad enough we have a carbon tax...\n",
    "\n",
    "Yours truly Richard Williams\n",
    "\n",
    "\"\"\""
   ]
  },
  {
   "cell_type": "code",
   "execution_count": 20,
   "metadata": {},
   "outputs": [
    {
     "name": "stdout",
     "output_type": "stream",
     "text": [
      "**Important Information Extracted:**\n",
      "\n",
      "- **Sender:** Richard Williams\n",
      "- **Recipient:** Ross Siemens (Mayor of Abbotsford)\n",
      "- **Date:** July 5, 2024\n",
      "- **Subject:** Gasoline pricing concerns in Abbotsford\n",
      "- **Main Issues Raised:**\n",
      "  - Gasoline prices in Abbotsford are higher than in Vancouver.\n",
      "  - Richard Williams expresses dissatisfaction with the Mayor's lack of action regarding gas price regulation.\n",
      "  - He feels that the situation is exacerbated by high taxes and the carbon tax.\n",
      "  - Williams has previously reached out to the Mayor about this issue but feels his concerns have been ignored.\n",
      "  - He accuses the Mayor of not taking the concerns of voters seriously, especially given the Mayor's involvement in the gasoline business.\n",
      "- **Consequences Mentioned:**\n",
      "  - Williams threatens to not vote for Ross Siemens in future elections if the issue is not addressed promptly."
     ]
    }
   ],
   "source": [
    "from itertools import chain\n",
    "from langchain_core.prompts import PromptTemplate\n",
    "\n",
    "prompt = PromptTemplate.from_template(\n",
    "    \"Extract important information from {email_content}\"\n",
    ")\n",
    "chain = prompt | llm\n",
    "\n",
    "answer = chain.stream({\"email_content\": email_content})\n",
    "\n",
    "output = stream_response(answer, return_output=True)"
   ]
  },
  {
   "cell_type": "code",
   "execution_count": 21,
   "metadata": {},
   "outputs": [],
   "source": [
    "class EmailSummary(BaseModel):\n",
    "    person: str = Field(description=\"Sender\")\n",
    "    email: str = Field(description=\"Sender's email address\")\n",
    "    subject: str = Field(description=\"Email subject\")\n",
    "    summary: str = Field(description=\"Summary of the email body\")\n",
    "    date: str = Field(description=\"Date and time mentioned in the email body\")\n",
    "\n",
    "# PydanticOutputParser 생성\n",
    "parser = PydanticOutputParser(pydantic_object=EmailSummary)"
   ]
  },
  {
   "cell_type": "code",
   "execution_count": 22,
   "metadata": {},
   "outputs": [
    {
     "name": "stdout",
     "output_type": "stream",
     "text": [
      "The output should be formatted as a JSON instance that conforms to the JSON schema below.\n",
      "\n",
      "As an example, for the schema {\"properties\": {\"foo\": {\"title\": \"Foo\", \"description\": \"a list of strings\", \"type\": \"array\", \"items\": {\"type\": \"string\"}}}, \"required\": [\"foo\"]}\n",
      "the object {\"foo\": [\"bar\", \"baz\"]} is a well-formatted instance of the schema. The object {\"properties\": {\"foo\": [\"bar\", \"baz\"]}} is not well-formatted.\n",
      "\n",
      "Here is the output schema:\n",
      "```\n",
      "{\"properties\": {\"person\": {\"description\": \"Sender\", \"title\": \"Person\", \"type\": \"string\"}, \"email\": {\"description\": \"Sender's email address\", \"title\": \"Email\", \"type\": \"string\"}, \"subject\": {\"description\": \"Email subject\", \"title\": \"Subject\", \"type\": \"string\"}, \"summary\": {\"description\": \"Summary of the email body\", \"title\": \"Summary\", \"type\": \"string\"}, \"date\": {\"description\": \"Date and time mentioned in the email body\", \"title\": \"Date\", \"type\": \"string\"}}, \"required\": [\"person\", \"email\", \"subject\", \"summary\", \"date\"]}\n",
      "```\n"
     ]
    }
   ],
   "source": [
    "print(parser.get_format_instructions())"
   ]
  },
  {
   "cell_type": "code",
   "execution_count": 23,
   "metadata": {},
   "outputs": [],
   "source": [
    "prompt = PromptTemplate.from_template(\n",
    " \"\"\"\n",
    "You are a helpful assistant. Please answer the following questions.\n",
    "\n",
    "QUESTION:\n",
    "{question}\n",
    "\n",
    "EMAIL CONVERSATION:\n",
    "{email_content}\n",
    "\n",
    "FORMAT:\n",
    "{format}\n",
    "\"\"\"\n",
    ")\n",
    "prompt = prompt.partial(format=parser.get_format_instructions())"
   ]
  },
  {
   "cell_type": "code",
   "execution_count": 24,
   "metadata": {},
   "outputs": [],
   "source": [
    "chain = prompt | llm"
   ]
  },
  {
   "cell_type": "code",
   "execution_count": 25,
   "metadata": {},
   "outputs": [
    {
     "name": "stdout",
     "output_type": "stream",
     "text": [
      "```json\n",
      "{\n",
      "  \"person\": \"Richard Williams\",\n",
      "  \"email\": \"surjadigroup@gmail.com\",\n",
      "  \"subject\": \"RE: gasoline gouging\",\n",
      "  \"summary\": \"Richard Williams expresses frustration over high gasoline prices in Abbotsford compared to Vancouver, criticizes the mayor for inaction, and threatens to not vote for the mayor in the future if the issue is not addressed.\",\n",
      "  \"date\": \"Friday, July 5, 2024 6:31 PM\"\n",
      "}\n",
      "```"
     ]
    }
   ],
   "source": [
    "\n",
    "response = chain.stream(\n",
    "    {\n",
    "        \"email_content\": email_content,\n",
    "        \"question\": \"Extract the important information from the email.\",\n",
    "    }\n",
    ")\n",
    "\n",
    "output = stream_response(response, return_output=True)"
   ]
  },
  {
   "cell_type": "code",
   "execution_count": 11,
   "metadata": {},
   "outputs": [
    {
     "name": "stdout",
     "output_type": "stream",
     "text": [
      "person='Richard Williams' email='surjadigroup@gmail.com' subject='RE: gasoline gouging' summary='Richard Williams expresses frustration over high gasoline prices in Abbotsford compared to Vancouver, criticizes the mayor for inaction, and threatens to not vote for the mayor in the future if the issue is not addressed.' date='Friday, July 5, 2024 6:31 PM'\n"
     ]
    }
   ],
   "source": [
    "structured_output = parser.parse(output)\n",
    "print(structured_output)"
   ]
  },
  {
   "cell_type": "markdown",
   "metadata": {},
   "source": [
    "## Creating a Chain with the Parser\n",
    "You can create the output using the Pydantic object that defines the output format."
   ]
  },
  {
   "cell_type": "code",
   "execution_count": 12,
   "metadata": {},
   "outputs": [],
   "source": [
    "chain = prompt | llm | parser"
   ]
  },
  {
   "cell_type": "code",
   "execution_count": 13,
   "metadata": {},
   "outputs": [],
   "source": [
    "response = chain.invoke(\n",
    "    {\n",
    "        \"email_content\": email_content,\n",
    "        \"question\": \"Extract the important information from the email.\",\n",
    "    }\n",
    ")"
   ]
  },
  {
   "cell_type": "code",
   "execution_count": 14,
   "metadata": {},
   "outputs": [],
   "source": [
    "llm_with_structered = ChatOpenAI(\n",
    "    temperature=0, model_name=\"gpt-4o-mini\"\n",
    ").with_structured_output(EmailSummary)"
   ]
  },
  {
   "cell_type": "code",
   "execution_count": 15,
   "metadata": {},
   "outputs": [
    {
     "data": {
      "text/plain": [
       "EmailSummary(person='Richard Williams', email='surjadigroup@gmail.com', subject='RE: gasoline gouging', summary='Richard Williams expresses his frustration to Mayor Ross Siemens regarding the high gasoline prices in Abbotsford compared to Vancouver. He criticizes the lack of action from the mayor and threatens to not vote for him in the future if the issue is not addressed. He also mentions previous communications on the matter and highlights the burden of taxes and the carbon tax.', date='July 5, 2024 6:31 PM')"
      ]
     },
     "execution_count": 15,
     "metadata": {},
     "output_type": "execute_result"
    }
   ],
   "source": [
    "answer = llm_with_structered.invoke(email_content)\n",
    "answer"
   ]
  },
  {
   "cell_type": "markdown",
   "metadata": {},
   "source": [
    "### Streaming functon is not supported"
   ]
  }
 ],
 "metadata": {
  "kernelspec": {
   "display_name": "env",
   "language": "python",
   "name": "python3"
  },
  "language_info": {
   "codemirror_mode": {
    "name": "ipython",
    "version": 3
   },
   "file_extension": ".py",
   "mimetype": "text/x-python",
   "name": "python",
   "nbconvert_exporter": "python",
   "pygments_lexer": "ipython3",
   "version": "3.11.9"
  }
 },
 "nbformat": 4,
 "nbformat_minor": 2
}
