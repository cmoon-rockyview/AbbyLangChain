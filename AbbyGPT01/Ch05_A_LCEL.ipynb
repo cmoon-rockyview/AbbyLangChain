{
 "cells": [
  {
   "cell_type": "markdown",
   "metadata": {},
   "source": [
    "# RunnablePassthrough\n",
    "\n",
    "`RunnablePassthrough` serves the purpose of passing data through. This class returns **the input data as is** via the `invoke()` method.\n",
    "\n",
    "It can be used to pass data to the next stage of the pipeline without any modification.\n",
    "\n",
    "`RunnablePassthrough` can be useful in the following scenarios:\n",
    "\n",
    "- When there is no need to transform or modify the data\n",
    "- When a specific stage of the pipeline needs to be skipped\n",
    "- When monitoring the data flow for debugging or testing purposes\n",
    "\n",
    "This class implements the `Runnable` interface, so it can be used in the pipeline along with other `Runnable` objects.\n"
   ]
  },
  {
   "cell_type": "code",
   "execution_count": 1,
   "metadata": {},
   "outputs": [
    {
     "data": {
      "text/plain": [
       "True"
      ]
     },
     "execution_count": 1,
     "metadata": {},
     "output_type": "execute_result"
    }
   ],
   "source": [
    "from dotenv import load_dotenv\n",
    "\n",
    "# API 키 정보 로드\n",
    "load_dotenv()"
   ]
  },
  {
   "cell_type": "code",
   "execution_count": null,
   "metadata": {},
   "outputs": [
    {
     "data": {
      "text/plain": [
       "{'passed': {'num': 1}, 'extra': {'num': 1, 'mult': 3}, 'modified': 2}"
      ]
     },
     "execution_count": 2,
     "metadata": {},
     "output_type": "execute_result"
    }
   ],
   "source": [
    "from langchain_core.runnables import RunnableParallel, RunnablePassthrough\n",
    "\n",
    "runnable = RunnableParallel(\n",
    "    # Set a Runnable that returns the passed input as is.\n",
    "    passed=RunnablePassthrough(),\n",
    "    # Set a Runnable that returns the result of multiplying the \"num\" value of the input by 3.\n",
    "    extra=RunnablePassthrough.assign(mult=lambda x: x[\"num\"] * 3),\n",
    "    # Set a Runnable that returns the result of adding 1 to the \"num\" value of the input.\n",
    "    modified=lambda x: x[\"num\"] + 1,\n",
    ")\n",
    "\n",
    "# Execute the Runnable with {\"num\": 1} as input.\n",
    "runnable.invoke({\"num\": 1})"
   ]
  },
  {
   "cell_type": "code",
   "execution_count": 3,
   "metadata": {},
   "outputs": [
    {
     "data": {
      "text/plain": [
       "{'num': 1, 'mult': 3}"
      ]
     },
     "execution_count": 3,
     "metadata": {},
     "output_type": "execute_result"
    }
   ],
   "source": [
    "r = RunnablePassthrough.assign(mult=lambda x: x[\"num\"] * 3)\n",
    "r.invoke({\"num\": 1})"
   ]
  },
  {
   "cell_type": "markdown",
   "metadata": {},
   "source": [
    "*In the example above, the `passed` key is invoked with `RunnablePassthrough()`, which simply passes `{'num': 1}`.\n",
    "\n",
    "In the second line, `RunnablePassthrough.assign` is used with a lambda function that multiplies the numeric value by 3. In this case, `extra` is set to `{'num': 1, 'mult': 3}` with the original value and an additional `mult` key.\n",
    "\n",
    "Finally, the `modified` key is set using a lambda function that adds 1 to the `num` value, resulting in the value of the `modified` key being `2`.*"
   ]
  },
  {
   "cell_type": "code",
   "execution_count": 5,
   "metadata": {},
   "outputs": [],
   "source": [
    "from langchain_community.vectorstores import FAISS\n",
    "from langchain_core.output_parsers import StrOutputParser\n",
    "from langchain_core.prompts import ChatPromptTemplate\n",
    "from langchain_core.runnables import RunnablePassthrough\n",
    "from langchain_openai import ChatOpenAI, OpenAIEmbeddings\n",
    "\n",
    "# Create a FAISS vector store from texts.\n",
    "vectorstore = FAISS.from_texts(\n",
    "    [\n",
    "        \"Teddy worked at LangChain Inc.\",\n",
    "        \"Shirley worked at the same company as Teddy.\",\n",
    "        \"Teddy's job is a developer.\",\n",
    "        \"Shirley's job is a designer.\",\n",
    "    ],\n",
    "    embedding=OpenAIEmbeddings(),\n",
    ")\n",
    "# Use the vector store as a retriever.\n",
    "retriever = vectorstore.as_retriever()\n",
    "# Define the template.\n",
    "template = \"\"\"Answer the question based only on the following context:\n",
    "{context}\n",
    "\n",
    "Question: {question}\n",
    "\"\"\"\n",
    "# Create a chat prompt from the template.\n",
    "prompt = ChatPromptTemplate.from_template(template)\n",
    "\n",
    "# Initialize the ChatOpenAI model.\n",
    "model = ChatOpenAI(model_name=\"gpt-4o-mini\")\n",
    "\n",
    "\n",
    "# Function to format documents\n",
    "def format_docs(docs):\n",
    "    return \"\\n\".join([doc.page_content for doc in docs])\n",
    "\n",
    "\n",
    "# Configure the retrieval chain.\n",
    "retrieval_chain = (\n",
    "    {\"context\": retriever | format_docs, \"question\": RunnablePassthrough()}\n",
    "    | prompt\n",
    "    | model\n",
    "    | StrOutputParser()\n",
    ")"
   ]
  },
  {
   "cell_type": "code",
   "execution_count": 6,
   "metadata": {},
   "outputs": [
    {
     "data": {
      "text/plain": [
       "\"Teddy's job is a developer.\""
      ]
     },
     "execution_count": 6,
     "metadata": {},
     "output_type": "execute_result"
    }
   ],
   "source": [
    "# 검색 체인을 실행하여 질문에 대한 답변을 얻습니다.\n",
    "# Execute the retrieval chain to get the answer to the question.\n",
    "retrieval_chain.invoke(\"What is Teddy's job?\")"
   ]
  },
  {
   "cell_type": "code",
   "execution_count": 7,
   "metadata": {},
   "outputs": [
    {
     "data": {
      "text/plain": [
       "\"Shirley's job is a designer.\""
      ]
     },
     "execution_count": 7,
     "metadata": {},
     "output_type": "execute_result"
    }
   ],
   "source": [
    "# 검색 체인을 실행하여 질문에 대한 답변을 얻습니다.\n",
    "retrieval_chain.invoke(\"What is Shirley's job?\")"
   ]
  }
 ],
 "metadata": {
  "kernelspec": {
   "display_name": "env",
   "language": "python",
   "name": "python3"
  },
  "language_info": {
   "codemirror_mode": {
    "name": "ipython",
    "version": 3
   },
   "file_extension": ".py",
   "mimetype": "text/x-python",
   "name": "python",
   "nbconvert_exporter": "python",
   "pygments_lexer": "ipython3",
   "version": "3.11.6"
  }
 },
 "nbformat": 4,
 "nbformat_minor": 2
}
