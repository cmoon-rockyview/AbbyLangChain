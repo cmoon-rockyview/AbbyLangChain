{
 "cells": [
  {
   "cell_type": "code",
   "execution_count": 3,
   "metadata": {},
   "outputs": [
    {
     "data": {
      "text/plain": [
       "True"
      ]
     },
     "execution_count": 3,
     "metadata": {},
     "output_type": "execute_result"
    }
   ],
   "source": [
    "# API 키를 환경변수로 관리하기 위한 설정 파일\n",
    "from dotenv import load_dotenv\n",
    "\n",
    "# API 키 정보 로드\n",
    "load_dotenv()"
   ]
  },
  {
   "cell_type": "code",
   "execution_count": 12,
   "metadata": {},
   "outputs": [],
   "source": [
    "from langchain_text_splitters import RecursiveCharacterTextSplitter\n",
    "from langchain_community.document_loaders import PyMuPDFLoader\n",
    "from langchain_community.vectorstores import FAISS\n",
    "from langchain_core.output_parsers import StrOutputParser\n",
    "from langchain_core.runnables import RunnablePassthrough\n",
    "from langchain_core.prompts import PromptTemplate\n",
    "from langchain_openai import ChatOpenAI, OpenAIEmbeddings"
   ]
  },
  {
   "cell_type": "code",
   "execution_count": 13,
   "metadata": {},
   "outputs": [
    {
     "name": "stdout",
     "output_type": "stream",
     "text": [
      "Number of Document: 10\n"
     ]
    }
   ],
   "source": [
    "\n",
    "loader = PyMuPDFLoader(\"data/oraclePatch.pdf\")\n",
    "docs = loader.load()\n",
    "print(f\"Number of Document: {len(docs)}\")"
   ]
  },
  {
   "cell_type": "code",
   "execution_count": 14,
   "metadata": {},
   "outputs": [
    {
     "name": "stdout",
     "output_type": "stream",
     "text": [
      "Oracle Patch\n",
      "10\n",
      "The script \n",
      "@utlrp.sql  is an Oracle-supplied SQL script used to recompile invalid objects in the \n",
      "database. Here's a detailed explanation of its purpose and usage:\n",
      "cd %ORACLE_HOME%/rdbms/admin\n",
      "sqlplus /nolog\n",
      "CONNECT / AS SYSDBA\n",
      "@utlrp.sql\n",
      "Conclusion\n",
      "Following these steps ensures that your Oracle Database is patched correctly and \n",
      "efficiently in a Windows environment. Always verify each step and consult the official \n",
      "Oracle documentation for any specific instructions or additional details.\n",
      "\n"
     ]
    }
   ],
   "source": [
    "print (docs[9].page_content)"
   ]
  },
  {
   "cell_type": "markdown",
   "metadata": {},
   "source": [
    "### Check the metadata"
   ]
  },
  {
   "cell_type": "code",
   "execution_count": 15,
   "metadata": {},
   "outputs": [
    {
     "data": {
      "text/plain": [
       "{'id': None,\n",
       " 'metadata': {'source': 'data/oraclePatch.pdf',\n",
       "  'file_path': 'data/oraclePatch.pdf',\n",
       "  'page': 9,\n",
       "  'total_pages': 10,\n",
       "  'format': 'PDF 1.4',\n",
       "  'title': '',\n",
       "  'author': '',\n",
       "  'subject': '',\n",
       "  'keywords': '',\n",
       "  'creator': 'Chromium',\n",
       "  'producer': 'Skia/PDF m119',\n",
       "  'creationDate': \"D:20240612210933+00'00'\",\n",
       "  'modDate': \"D:20240612210933+00'00'\",\n",
       "  'trapped': ''},\n",
       " 'page_content': \"Oracle Patch\\n10\\nThe script \\n@utlrp.sql  is an Oracle-supplied SQL script used to recompile invalid objects in the \\ndatabase. Here's a detailed explanation of its purpose and usage:\\ncd %ORACLE_HOME%/rdbms/admin\\nsqlplus /nolog\\nCONNECT / AS SYSDBA\\n@utlrp.sql\\nConclusion\\nFollowing these steps ensures that your Oracle Database is patched correctly and \\nefficiently in a Windows environment. Always verify each step and consult the official \\nOracle documentation for any specific instructions or additional details.\\n\",\n",
       " 'type': 'Document'}"
      ]
     },
     "execution_count": 15,
     "metadata": {},
     "output_type": "execute_result"
    }
   ],
   "source": [
    "docs[9].__dict__"
   ]
  },
  {
   "cell_type": "code",
   "execution_count": 17,
   "metadata": {},
   "outputs": [
    {
     "name": "stdout",
     "output_type": "stream",
     "text": [
      "chunck: 23\n"
     ]
    }
   ],
   "source": [
    "text_splitter = RecursiveCharacterTextSplitter(chunk_size=500, chunk_overlap=50)\n",
    "split_documents = text_splitter.split_documents(docs)\n",
    "print(f\"chunck: {len(split_documents)}\")"
   ]
  },
  {
   "cell_type": "markdown",
   "metadata": {},
   "source": [
    "text-embedding-3-large and text-embedding-3-small"
   ]
  },
  {
   "cell_type": "code",
   "execution_count": 19,
   "metadata": {},
   "outputs": [],
   "source": [
    "embeddings = OpenAIEmbeddings(model=\"text-embedding-3-small\")"
   ]
  },
  {
   "cell_type": "code",
   "execution_count": 20,
   "metadata": {},
   "outputs": [],
   "source": [
    "vectorstore = FAISS.from_documents(documents=split_documents, embedding=embeddings)"
   ]
  },
  {
   "cell_type": "code",
   "execution_count": 23,
   "metadata": {},
   "outputs": [
    {
     "name": "stdout",
     "output_type": "stream",
     "text": [
      "Oracle Patch\n",
      "7\n",
      "7. Stopping Services\n",
      "Before applying the patch, stop the following services to prevent any conflicts or issues:\n",
      "1. Clear PERL5LIB environment variable:\n",
      "set PERL5LIB=\n",
      "The command set PERL5LIB=  is used to clear the PERL5LIB  environment variable. This \n",
      "variable is typically used to specify the path for Perl libraries.\n",
      "In the context of the Oracle patch process, setting PERL5LIB  to an empty value ensures\n",
      "Oracle Patch\n",
      "2\n",
      "Oracle Patch\n",
      "4\n",
      "2. Login as svcDBamnd13 (service account: This is DEV \n",
      "environment) to Amanda DB Server\n",
      "1. Find the password from secret server.\n",
      "3. Setting Up Environment Variables\n",
      "1. Set the Oracle SID, Oracle Base, and Oracle Home:\n",
      "Open a command prompt as admin and enter the following commands to set up the \n",
      "necessary environment variables:\n",
      "SET ORACLE_SID=AMND13\n",
      "SET ORACLE_BASE=E:\\app\\oracle\n",
      "SET ORACLE_HOME=E:\\app\\oracle\\product\\19.3.0\\dbhome_1\n",
      "Oracle Patch\n",
      "8\n",
      "1. Start the services:\n",
      "net start msdtc\n",
      "net start OracleServiceAMND13\n",
      "net start OracleVssWriterAMND13\n",
      "net start OracleOraDB19Home1TNSListener\n",
      "10. Post-Patch Steps\n",
      "1. Start SQL*Plus and connect as SYSDBA:\n",
      "Open a command prompt and start SQL*Plus:\n",
      "sqlplus /nolog\n",
      "2. Connect to the database as SYSDBA:\n",
      "Connect / as sysdba\n",
      "3. Start the database and open all pluggable databases:\n",
      "startup\n",
      "alter pluggable database all open;\n",
      "quit\n",
      "4. Run the datapatch utility:\n"
     ]
    }
   ],
   "source": [
    "for doc in vectorstore.similarity_search(\"services\"):\n",
    "    print(doc.page_content)"
   ]
  },
  {
   "cell_type": "code",
   "execution_count": 25,
   "metadata": {},
   "outputs": [],
   "source": [
    "retriever = vectorstore.as_retriever()"
   ]
  },
  {
   "cell_type": "code",
   "execution_count": 26,
   "metadata": {},
   "outputs": [
    {
     "data": {
      "text/plain": [
       "[Document(metadata={'source': 'data/oraclePatch.pdf', 'file_path': 'data/oraclePatch.pdf', 'page': 0, 'total_pages': 10, 'format': 'PDF 1.4', 'title': '', 'author': '', 'subject': '', 'keywords': '', 'creator': 'Chromium', 'producer': 'Skia/PDF m119', 'creationDate': \"D:20240612210933+00'00'\", 'modDate': \"D:20240612210933+00'00'\", 'trapped': ''}, page_content='Oracle Patch\\n1\\nOracle Patch\\nOracle Database Patching Guide for Windows \\nEnvironment\\nhttps://www.youtube.com/watch?v=ODyzpwz115M\\nhttps://www.youtube.com/watch?v=gT0Gn1wxpuU\\nThis guide details the process for patching an Oracle Database in a Windows \\nenvironment. It includes setting up environment variables, checking and revoking DBA \\nroles, preparing and applying the patch, and post-patch steps.\\nAll the detailed information is in'),\n",
       " Document(metadata={'source': 'data/oraclePatch.pdf', 'file_path': 'data/oraclePatch.pdf', 'page': 7, 'total_pages': 10, 'format': 'PDF 1.4', 'title': '', 'author': '', 'subject': '', 'keywords': '', 'creator': 'Chromium', 'producer': 'Skia/PDF m119', 'creationDate': \"D:20240612210933+00'00'\", 'modDate': \"D:20240612210933+00'00'\", 'trapped': ''}, page_content='Oracle Patch\\n8\\n1. Start the services:\\nnet start msdtc\\nnet start OracleServiceAMND13\\nnet start OracleVssWriterAMND13\\nnet start OracleOraDB19Home1TNSListener\\n10. Post-Patch Steps\\n1. Start SQL*Plus and connect as SYSDBA:\\nOpen a command prompt and start SQL*Plus:\\nsqlplus /nolog\\n2. Connect to the database as SYSDBA:\\nConnect / as sysdba\\n3. Start the database and open all pluggable databases:\\nstartup\\nalter pluggable database all open;\\nquit\\n4. Run the datapatch utility:'),\n",
       " Document(metadata={'source': 'data/oraclePatch.pdf', 'file_path': 'data/oraclePatch.pdf', 'page': 1, 'total_pages': 10, 'format': 'PDF 1.4', 'title': '', 'author': '', 'subject': '', 'keywords': '', 'creator': 'Chromium', 'producer': 'Skia/PDF m119', 'creationDate': \"D:20240612210933+00'00'\", 'modDate': \"D:20240612210933+00'00'\", 'trapped': ''}, page_content='Oracle Patch\\n2'),\n",
       " Document(metadata={'source': 'data/oraclePatch.pdf', 'file_path': 'data/oraclePatch.pdf', 'page': 2, 'total_pages': 10, 'format': 'PDF 1.4', 'title': '', 'author': '', 'subject': '', 'keywords': '', 'creator': 'Chromium', 'producer': 'Skia/PDF m119', 'creationDate': \"D:20240612210933+00'00'\", 'modDate': \"D:20240612210933+00'00'\", 'trapped': ''}, page_content='Oracle Patch\\n3\\n1. Login Oracle Support and download the patch \\nGo to https://support.oracle.com/portal/\\nThis search is an example.\\nor\\nThis retrieves only database bundle patches.\\n💡Will usually download bundle patch and patch oracle DB.')]"
      ]
     },
     "execution_count": 26,
     "metadata": {},
     "output_type": "execute_result"
    }
   ],
   "source": [
    "retriever.invoke(\"How often should I have to patch my Oracle database?\")"
   ]
  },
  {
   "cell_type": "code",
   "execution_count": 29,
   "metadata": {},
   "outputs": [],
   "source": [
    "prompt = PromptTemplate.from_template(\n",
    "    \"\"\"You are an assistant for question-answering tasks. \n",
    "Use the following pieces of retrieved context to answer the question. \n",
    "If you don't know the answer, just say that you don't know. \n",
    "\n",
    "\n",
    "#Context: \n",
    "{context}\n",
    "\n",
    "#Question:\n",
    "{question}\n",
    "\n",
    "#Answer:\"\"\"\n",
    ")"
   ]
  },
  {
   "cell_type": "code",
   "execution_count": 30,
   "metadata": {},
   "outputs": [],
   "source": [
    "llm = ChatOpenAI(model_name=\"gpt-4o-mini\", temperature=0)"
   ]
  },
  {
   "cell_type": "code",
   "execution_count": 31,
   "metadata": {},
   "outputs": [],
   "source": [
    "chain = (\n",
    "    {\"context\": retriever, \"question\": RunnablePassthrough()}\n",
    "    | prompt\n",
    "    | llm\n",
    "    | StrOutputParser()\n",
    ")"
   ]
  },
  {
   "cell_type": "code",
   "execution_count": null,
   "metadata": {},
   "outputs": [],
   "source": [
    "question = \"show post patch steps\"\n",
    "response = chain.invoke(question)\n",
    "print(response)"
   ]
  },
  {
   "cell_type": "code",
   "execution_count": 37,
   "metadata": {},
   "outputs": [],
   "source": [
    "# Step 1: Load Documents\n",
    "loader = PyMuPDFLoader(\"data/OraclePatch.pdf\")\n",
    "docs = loader.load()\n",
    "\n",
    "# Step 2: Split Documents\n",
    "text_splitter = RecursiveCharacterTextSplitter(chunk_size=1000, chunk_overlap=50)\n",
    "split_documents = text_splitter.split_documents(docs)\n",
    "\n",
    "# Step 3: Create Embeddings\n",
    "embeddings = OpenAIEmbeddings()\n",
    "\n",
    "# Step 4: Create DB and Save\n",
    "# Create the vector store\n",
    "vectorstore = FAISS.from_documents(documents=split_documents, embedding=embeddings)\n",
    "\n",
    "# Step 5: Create Retriever\n",
    "# Create a retriever to search and generate information from the documents\n",
    "retriever = vectorstore.as_retriever()\n",
    "\n",
    "# Step 6: Create Prompt\n",
    "# Create the prompt\n",
    "prompt = PromptTemplate.from_template(\n",
    "    \"\"\"You are an assistant for question-answering tasks. \n",
    "Use the following pieces of retrieved context to answer the question. \n",
    "If you don't know the answer, just say that you don't know. \n",
    "\n",
    "\n",
    "#Context: \n",
    "{context}\n",
    "\n",
    "#Question:\n",
    "{question}\n",
    "\n",
    "#Answer:\"\"\"\n",
    ")\n",
    "\n",
    "# Step 7: Create Language Model (LLM)\n",
    "# Create the model (LLM)\n",
    "llm = ChatOpenAI(model_name=\"gpt-4o-mini\", temperature=0)\n",
    "\n",
    "# Step 8: Create Chain\n",
    "chain = (\n",
    "    {\"context\": retriever, \"question\": RunnablePassthrough()}\n",
    "    | prompt\n",
    "    | llm\n",
    "    | StrOutputParser()\n",
    ")\n"
   ]
  },
  {
   "cell_type": "code",
   "execution_count": 40,
   "metadata": {},
   "outputs": [
    {
     "name": "stdout",
     "output_type": "stream",
     "text": [
      "I don't know.\n"
     ]
    }
   ],
   "source": [
    "question = \"Who is the CEO of Oracle?\"\n",
    "response = chain.invoke(question)\n",
    "print(response)"
   ]
  }
 ],
 "metadata": {
  "kernelspec": {
   "display_name": "env",
   "language": "python",
   "name": "python3"
  },
  "language_info": {
   "codemirror_mode": {
    "name": "ipython",
    "version": 3
   },
   "file_extension": ".py",
   "mimetype": "text/x-python",
   "name": "python",
   "nbconvert_exporter": "python",
   "pygments_lexer": "ipython3",
   "version": "3.11.9"
  }
 },
 "nbformat": 4,
 "nbformat_minor": 2
}
