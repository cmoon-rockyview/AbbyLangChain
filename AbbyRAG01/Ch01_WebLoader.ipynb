{
 "cells": [
  {
   "cell_type": "code",
   "execution_count": null,
   "metadata": {},
   "outputs": [],
   "source": [
    "# API 키를 환경변수로 관리하기 위한 설정 파일\n",
    "from dotenv import load_dotenv\n",
    "\n",
    "# API 키 정보 로드\n",
    "load_dotenv()"
   ]
  },
  {
   "cell_type": "code",
   "execution_count": 2,
   "metadata": {},
   "outputs": [],
   "source": [
    "import bs4\n",
    "from langchain import hub\n",
    "from langchain_text_splitters import RecursiveCharacterTextSplitter\n",
    "from langchain_community.document_loaders import WebBaseLoader\n",
    "from langchain_community.vectorstores import FAISS\n",
    "from langchain_core.output_parsers import StrOutputParser\n",
    "from langchain_core.runnables import RunnablePassthrough\n",
    "from langchain_openai import ChatOpenAI, OpenAIEmbeddings"
   ]
  },
  {
   "cell_type": "code",
   "execution_count": 3,
   "metadata": {},
   "outputs": [
    {
     "name": "stdout",
     "output_type": "stream",
     "text": [
      "document numbers: 1\n"
     ]
    },
    {
     "data": {
      "text/plain": [
       "[Document(metadata={'source': 'https://www.abbynews.com/local-news/cleanup-crews-at-peardonville-road-encampment-in-abbotsford-7758944'}, page_content='\\nCleanup work took place Tuesday (Jan. 14) at the Peardonville Road encampment in Abbotsford.\\nWork crews, including an excavator, were on hand to clear away garbage, but none of the occupants were being asked to leave. They were given prior notice about the cleanup.\\nThe land, located in the area of South Fraser Way and Peardonville Road, is owned by the Ministry of Transportation and Infrastructure.\\nA previous cleanup of the site was done in December by about 50 people from the street community. The project was organized by the Business Engagement and Ambassador Program.\\nOther local camps on ministry land include ones at Whatcom Road and Cole Road.\\nA spokesperson with the ministry said there will be ongoing cleanups of the Peardonville camp, as well as other ones along Highway 1 \"to improve safety and cleanliness.\"\\n\"Everyone deserves a safe place to live, with access to the services they need,\" he said.\\n\"While encampments may offer a sense of community for some people, they are not a safe or suitable form of long-term shelter and create significant risks for people’s well-being.\"\\nHe said the ministry is working closely with the Ministry of Housing and Municipal Affairs to address the encampments.\\nAs well, the spokesperson said the province’s Homeless Encampment Action Response Team program, outreach workers, and community partners have been connecting with people in the camps \"to ensure they are aware of available supports, shelters, drop-in services, and how to apply to the province’s Supportive Housing Registry.\"\\nThere are currently 206 shelters beds and 199 supportive housing units in Abbotsford, including at the Lonzo Shelter, the Sumas Shelter and the Bob Sutton Centre.\\nTwo more shelters are underway – at 2509 Pauline St. and at 2539 Montvue Ave. – and are expected to open in the next six months, adding a combined 52 new shelter beds.\\xa0\\nA large encampment at the Bradner Road rest stop was cleared away last year to make way for the Highway 1 expansion project.\\nAnother one on Lonzo Road was dismantled in 2023.\\nThe city recently said there are currently some 40 homeless camps across the city, including one at city hall.\\nThat camp has been considerably reduced in size over the last few weeks, but some tents remain on site.\\n\\xa0\\n\\xa0\\n\\xa0\\n\\xa0\\xa0\\xa0\\n\\xa0\\n\\xa0\\n\\xa0\\n\\xa0\\n\\xa0\\n')]"
      ]
     },
     "execution_count": 3,
     "metadata": {},
     "output_type": "execute_result"
    }
   ],
   "source": [
    "loader = WebBaseLoader(\n",
    "    web_paths=(\"https://www.abbynews.com/local-news/cleanup-crews-at-peardonville-road-encampment-in-abbotsford-7758944\",),\n",
    "    bs_kwargs=dict(\n",
    "        parse_only=bs4.SoupStrainer(\n",
    "            \"div\",\n",
    "            attrs={\"class\": [\"details-body clearfix\", \"title details-title\"]},\n",
    "        )\n",
    "    ),\n",
    ")\n",
    "\n",
    "docs = loader.load()\n",
    "print(f\"document numbers: {len(docs)}\")\n",
    "docs"
   ]
  },
  {
   "cell_type": "code",
   "execution_count": 4,
   "metadata": {},
   "outputs": [
    {
     "data": {
      "text/plain": [
       "3"
      ]
     },
     "execution_count": 4,
     "metadata": {},
     "output_type": "execute_result"
    }
   ],
   "source": [
    "text_splitter = RecursiveCharacterTextSplitter(chunk_size=1000, chunk_overlap=100)\n",
    "\n",
    "splits = text_splitter.split_documents(docs)\n",
    "len(splits)"
   ]
  },
  {
   "cell_type": "code",
   "execution_count": 5,
   "metadata": {},
   "outputs": [],
   "source": [
    "# 벡터스토어를 생성합니다.\n",
    "vectorstore = FAISS.from_documents(documents=splits, embedding=OpenAIEmbeddings())\n",
    "\n",
    "# 뉴스에 포함되어 있는 정보를 검색하고 생성합니다.\n",
    "retriever = vectorstore.as_retriever()"
   ]
  },
  {
   "cell_type": "code",
   "execution_count": null,
   "metadata": {},
   "outputs": [],
   "source": [
    "from langchain_core.prompts import PromptTemplate\n",
    "\n",
    "prompt = PromptTemplate.from_template(\n",
    "    \"\"\"You are a friendly AI assistant performing question-answering. \n",
    "    Your task is to answer the given question using the provided context.\n",
    "If you cannot find the answer in the given context, or if you do not know the answer, respond with \n",
    "`The information to answer the question is not available in the given context`.\n",
    "Please answer in English. However, do not translate technical terms or names.\n",
    "\n",
    "#Question: \n",
    "{question} \n",
    "\n",
    "#Context: \n",
    "{context} \n",
    "\n",
    "#Answer:\"\"\"\n",
    ")"
   ]
  }
 ],
 "metadata": {
  "kernelspec": {
   "display_name": "env",
   "language": "python",
   "name": "python3"
  },
  "language_info": {
   "codemirror_mode": {
    "name": "ipython",
    "version": 3
   },
   "file_extension": ".py",
   "mimetype": "text/x-python",
   "name": "python",
   "nbconvert_exporter": "python",
   "pygments_lexer": "ipython3",
   "version": "3.11.9"
  }
 },
 "nbformat": 4,
 "nbformat_minor": 2
}
